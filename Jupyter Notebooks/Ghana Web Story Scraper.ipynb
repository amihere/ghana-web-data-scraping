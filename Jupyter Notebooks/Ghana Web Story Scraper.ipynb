{
 "cells": [
  {
   "cell_type": "code",
   "execution_count": 41,
   "metadata": {},
   "outputs": [],
   "source": [
    "import pandas as pd\n",
    "import cloudscraper\n",
    "from bs4 import BeautifulSoup\n",
    "import warnings\n",
    "warnings.filterwarnings(\"ignore\")"
   ]
  },
  {
   "cell_type": "code",
   "execution_count": 35,
   "metadata": {},
   "outputs": [],
   "source": [
    "data_df = pd.read_csv(\"C:\\\\Users\\\\annieboadu\\\\OneDrive - Affinity Africa\\\\Documents\\\\ghana-web-data-main\\\\CSV files\\\\Story Urls.csv\")"
   ]
  },
  {
   "cell_type": "code",
   "execution_count": 38,
   "metadata": {},
   "outputs": [],
   "source": [
    "del data_df['Unnamed: 0']"
   ]
  },
  {
   "cell_type": "code",
   "execution_count": 40,
   "metadata": {},
   "outputs": [
    {
     "data": {
      "text/html": [
       "<div>\n",
       "<style scoped>\n",
       "    .dataframe tbody tr th:only-of-type {\n",
       "        vertical-align: middle;\n",
       "    }\n",
       "\n",
       "    .dataframe tbody tr th {\n",
       "        vertical-align: top;\n",
       "    }\n",
       "\n",
       "    .dataframe thead th {\n",
       "        text-align: right;\n",
       "    }\n",
       "</style>\n",
       "<table border=\"1\" class=\"dataframe\">\n",
       "  <thead>\n",
       "    <tr style=\"text-align: right;\">\n",
       "      <th></th>\n",
       "      <th>Section Title</th>\n",
       "      <th>Url</th>\n",
       "    </tr>\n",
       "  </thead>\n",
       "  <tbody>\n",
       "    <tr>\n",
       "      <th>0</th>\n",
       "      <td>Abroad, Ghanaians</td>\n",
       "      <td>https://www.ghanaweb.com/GhanaHomePage/diaspor...</td>\n",
       "    </tr>\n",
       "    <tr>\n",
       "      <th>1</th>\n",
       "      <td>Abroad, Ghanaians</td>\n",
       "      <td>https://www.ghanaweb.com/GhanaHomePage/diaspor...</td>\n",
       "    </tr>\n",
       "    <tr>\n",
       "      <th>2</th>\n",
       "      <td>Abroad, Ghanaians</td>\n",
       "      <td>https://www.ghanaweb.com/GhanaHomePage/diaspor...</td>\n",
       "    </tr>\n",
       "    <tr>\n",
       "      <th>3</th>\n",
       "      <td>Abroad, Ghanaians</td>\n",
       "      <td>https://www.ghanaweb.com/GhanaHomePage/diaspor...</td>\n",
       "    </tr>\n",
       "    <tr>\n",
       "      <th>4</th>\n",
       "      <td>Abroad, Ghanaians</td>\n",
       "      <td>https://www.ghanaweb.com/GhanaHomePage/diaspor...</td>\n",
       "    </tr>\n",
       "  </tbody>\n",
       "</table>\n",
       "</div>"
      ],
      "text/plain": [
       "       Section Title                                                Url\n",
       "0  Abroad, Ghanaians  https://www.ghanaweb.com/GhanaHomePage/diaspor...\n",
       "1  Abroad, Ghanaians  https://www.ghanaweb.com/GhanaHomePage/diaspor...\n",
       "2  Abroad, Ghanaians  https://www.ghanaweb.com/GhanaHomePage/diaspor...\n",
       "3  Abroad, Ghanaians  https://www.ghanaweb.com/GhanaHomePage/diaspor...\n",
       "4  Abroad, Ghanaians  https://www.ghanaweb.com/GhanaHomePage/diaspor..."
      ]
     },
     "execution_count": 40,
     "metadata": {},
     "output_type": "execute_result"
    }
   ],
   "source": [
    "data_df.head()"
   ]
  },
  {
   "cell_type": "code",
   "execution_count": 8,
   "metadata": {},
   "outputs": [],
   "source": [
    "data_df = data_df[0:5]"
   ]
  },
  {
   "cell_type": "code",
   "execution_count": 9,
   "metadata": {},
   "outputs": [],
   "source": [
    "df_columns = ['Header','Date','Title','Information']\n",
    "stories_data = pd.DataFrame(columns = df_columns)"
   ]
  },
  {
   "cell_type": "markdown",
   "metadata": {},
   "source": [
    "for data in data_df['url']:\n",
    "    #try:\n",
    "    scraper = cloudscraper.create_scraper()\n",
    "    page = scraper.get(data)\n",
    "    soup = BeautifulSoup(page.content, 'html.parser')\n",
    "    page_stories = soup.find(id = \"medsection1\")\n",
    "    print(1)\n",
    "    print(soup)\n",
    "    div_class = page_stories.find(\"div\", class_ = \"article-left-col\")\n",
    "    header = div_class.find('p', class_ = \"floatLeft\").text\n",
    "    date = div_class.find('a', id = \"date\").text\n",
    "    title = div_class.find('h1').text\n",
    "    info = div_class.find('p',id = \"article-123\").text\n",
    "    temp_row = pd.DataFrame(data = [[header,date, title,info]], columns = df_columns)\n",
    "    stories_data = stories_data.append(temp_row)\n",
    "\n",
    "\n",
    "    \n",
    "#     div_class = page_stories.find_all(\"div\", class_ = \"article-left-col\")\n",
    "#     for div in div_class:\n",
    "#         for p in div.find('p'):\n",
    "#             date = p\n",
    "#     for div in div_class:\n",
    "#         for h1 in div.find('h1'):\n",
    "#             title = h1\n",
    "#     for div in div_class:\n",
    "#         for p in div.find_all('div'):\n",
    "#             for s in p.find_all('p',id = \"article-123\"):\n",
    "#                 info = s.textprint(div_class.find_all('br').text)\n",
    "#     temp_row = pd.DataFrame(data = [[header,date, title,info]], columns = df_columns)\n",
    "#     stories_data = stories_data.append(temp_row)\n",
    "\n",
    "    #except:\n",
    "        #print(div_class)"
   ]
  },
  {
   "cell_type": "code",
   "execution_count": null,
   "metadata": {},
   "outputs": [],
   "source": [
    "stories_data['Information'] = stories_data['Information'].replace(\"\\n\\r\\n\",\"\")"
   ]
  },
  {
   "cell_type": "code",
   "execution_count": null,
   "metadata": {},
   "outputs": [],
   "source": [
    "stories_data.reset_index(inplace = True)\n",
    "del stories_data['index']"
   ]
  },
  {
   "cell_type": "code",
   "execution_count": 15,
   "metadata": {},
   "outputs": [
    {
     "data": {
      "text/html": [
       "<div>\n",
       "<style scoped>\n",
       "    .dataframe tbody tr th:only-of-type {\n",
       "        vertical-align: middle;\n",
       "    }\n",
       "\n",
       "    .dataframe tbody tr th {\n",
       "        vertical-align: top;\n",
       "    }\n",
       "\n",
       "    .dataframe thead th {\n",
       "        text-align: right;\n",
       "    }\n",
       "</style>\n",
       "<table border=\"1\" class=\"dataframe\">\n",
       "  <thead>\n",
       "    <tr style=\"text-align: right;\">\n",
       "      <th></th>\n",
       "      <th>Header</th>\n",
       "      <th>Date</th>\n",
       "      <th>Title</th>\n",
       "      <th>Information</th>\n",
       "    </tr>\n",
       "  </thead>\n",
       "  <tbody>\n",
       "  </tbody>\n",
       "</table>\n",
       "</div>"
      ],
      "text/plain": [
       "Empty DataFrame\n",
       "Columns: [Header, Date, Title, Information]\n",
       "Index: []"
      ]
     },
     "execution_count": 15,
     "metadata": {},
     "output_type": "execute_result"
    }
   ],
   "source": [
    "stories_data"
   ]
  },
  {
   "cell_type": "code",
   "execution_count": null,
   "metadata": {},
   "outputs": [],
   "source": [
    "stories_data['Information'][0]"
   ]
  },
  {
   "cell_type": "code",
   "execution_count": null,
   "metadata": {},
   "outputs": [],
   "source": []
  },
  {
   "cell_type": "code",
   "execution_count": null,
   "metadata": {},
   "outputs": [],
   "source": []
  }
 ],
 "metadata": {
  "interpreter": {
   "hash": "3983a69a71ba65f379ca11b7271da0d7fd4a5f5f998a2bdf28810253fd0e4405"
  },
  "kernelspec": {
   "display_name": "Python 3.10.2 64-bit",
   "language": "python",
   "name": "python3"
  },
  "language_info": {
   "codemirror_mode": {
    "name": "ipython",
    "version": 3
   },
   "file_extension": ".py",
   "mimetype": "text/x-python",
   "name": "python",
   "nbconvert_exporter": "python",
   "pygments_lexer": "ipython3",
   "version": "3.10.2"
  },
  "orig_nbformat": 4
 },
 "nbformat": 4,
 "nbformat_minor": 2
}
