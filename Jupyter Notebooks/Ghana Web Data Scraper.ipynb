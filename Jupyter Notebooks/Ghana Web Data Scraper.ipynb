{
 "cells": [
  {
   "cell_type": "markdown",
   "id": "bad397e5",
   "metadata": {},
   "source": [
    "## Importing Libraries"
   ]
  },
  {
   "cell_type": "code",
   "execution_count": 98,
   "id": "318088e4",
   "metadata": {},
   "outputs": [],
   "source": [
    "import pandas as pd\n",
    "import requests\n",
    "from bs4 import BeautifulSoup\n",
    "import time\n",
    "import warnings\n",
    "warnings.filterwarnings(\"ignore\")"
   ]
  },
  {
   "cell_type": "markdown",
   "id": "56f002c6",
   "metadata": {},
   "source": [
    "## Retrieving data from Sitemap"
   ]
  },
  {
   "cell_type": "code",
   "execution_count": 2,
   "id": "9f351475",
   "metadata": {},
   "outputs": [],
   "source": [
    "base_url = 'https://www.ghanaweb.com'"
   ]
  },
  {
   "cell_type": "code",
   "execution_count": 3,
   "id": "4dbe41f9",
   "metadata": {},
   "outputs": [],
   "source": [
    "URL = \"https://www.ghanaweb.com/GhanaHomePage/sitemap.php\"\n",
    "page = requests.get(URL)\n",
    "\n",
    "#print(page.text)"
   ]
  },
  {
   "cell_type": "code",
   "execution_count": 4,
   "id": "81a3de49",
   "metadata": {},
   "outputs": [],
   "source": [
    "soup = BeautifulSoup(page.content, 'html.parser')"
   ]
  },
  {
   "cell_type": "code",
   "execution_count": 5,
   "id": "a729b1c0",
   "metadata": {},
   "outputs": [],
   "source": [
    "results = soup.find(id = \"medsection2\")"
   ]
  },
  {
   "cell_type": "raw",
   "id": "604fe00f",
   "metadata": {},
   "source": [
    "#print(results.prettify())"
   ]
  },
  {
   "cell_type": "code",
   "execution_count": 6,
   "id": "649cc432",
   "metadata": {},
   "outputs": [],
   "source": [
    "site_map_data = results.find_all(\"dl\", class_ = \"resources\")"
   ]
  },
  {
   "cell_type": "code",
   "execution_count": 7,
   "id": "91e1c0eb",
   "metadata": {},
   "outputs": [],
   "source": [
    "df_columns = ['Section','url']\n",
    "sections_df = pd.DataFrame(columns = df_columns)"
   ]
  },
  {
   "cell_type": "code",
   "execution_count": 8,
   "id": "62e907b7",
   "metadata": {},
   "outputs": [],
   "source": [
    "for sections in site_map_data:\n",
    "    urls = sections.find_all(\"a\")\n",
    "    for url in urls:\n",
    "        temp_row = pd.DataFrame(data = [[url.text,base_url+url.get('href')]], columns = df_columns)\n",
    "        sections_df = pd.concat([sections_df,temp_row], ignore_index=True)"
   ]
  },
  {
   "cell_type": "code",
   "execution_count": 91,
   "id": "dad0a725",
   "metadata": {},
   "outputs": [],
   "source": [
    "sections_df.to_csv(\"C:\\\\Users\\\\annieboadu\\\\OneDrive - Affinity Africa\\\\Documents\\\\ghana-web-data-main\\\\CSV files\\\\Sections_data.csv\")"
   ]
  },
  {
   "cell_type": "markdown",
   "id": "3c3cefa6",
   "metadata": {},
   "source": [
    "## Selecting Story Sections with articles"
   ]
  },
  {
   "cell_type": "code",
   "execution_count": 46,
   "id": "ca5187ec",
   "metadata": {},
   "outputs": [],
   "source": [
    "section_list = [\"Abroad, Ghanaians\",\"AFCON\",\"African News\",\"Athletics\",\"BBC Hausa News\", \"BBC Pidgin News\",\"Business & Economy\",\n",
    "\"Coronavirus\",\"Crime News\",\"Editorial News\",\"Entertainers\",\"Entertainment\",\"Health News\",\"Lifestyle\",\"Music\",\"Political News\",\n",
    "\"Regional News\",\"Sports Section\",\"Tabloid News\"]"
   ]
  },
  {
   "cell_type": "code",
   "execution_count": 79,
   "id": "673a2639",
   "metadata": {},
   "outputs": [],
   "source": [
    "def get_section_urls(row):\n",
    "    df = pd.DataFrame()\n",
    "    if row['Section'] in section_list:\n",
    "        temp_row = pd.DataFrame(data = [[row[\"Section\"], row[\"url\"]]], columns = df_columns)\n",
    "        df = pd.concat([df,temp_row],ignore_index =True)\n",
    "    else:\n",
    "        pass\n",
    "\n",
    "    return df"
   ]
  },
  {
   "cell_type": "code",
   "execution_count": 80,
   "id": "841e8275",
   "metadata": {},
   "outputs": [],
   "source": [
    "df = sections_df.apply(lambda row : get_section_urls(row),axis = 1)"
   ]
  },
  {
   "cell_type": "code",
   "execution_count": 84,
   "id": "7adc8f05",
   "metadata": {},
   "outputs": [],
   "source": [
    "df_columns = ['Section Title','Url']\n",
    "stories_urls_df = pd.DataFrame(columns = df_columns)"
   ]
  },
  {
   "cell_type": "code",
   "execution_count": 85,
   "id": "beeb2b61",
   "metadata": {},
   "outputs": [],
   "source": [
    "for row in df:\n",
    "    stories_urls_df = stories_urls_df.append(row)"
   ]
  },
  {
   "cell_type": "code",
   "execution_count": 89,
   "id": "e7161f3b",
   "metadata": {},
   "outputs": [],
   "source": [
    "stories_urls_df.reset_index(inplace=True)"
   ]
  },
  {
   "cell_type": "code",
   "execution_count": 90,
   "id": "cbd9ea22",
   "metadata": {},
   "outputs": [
    {
     "data": {
      "text/html": [
       "<div>\n",
       "<style scoped>\n",
       "    .dataframe tbody tr th:only-of-type {\n",
       "        vertical-align: middle;\n",
       "    }\n",
       "\n",
       "    .dataframe tbody tr th {\n",
       "        vertical-align: top;\n",
       "    }\n",
       "\n",
       "    .dataframe thead th {\n",
       "        text-align: right;\n",
       "    }\n",
       "</style>\n",
       "<table border=\"1\" class=\"dataframe\">\n",
       "  <thead>\n",
       "    <tr style=\"text-align: right;\">\n",
       "      <th></th>\n",
       "      <th>Section Title</th>\n",
       "      <th>Url</th>\n",
       "    </tr>\n",
       "  </thead>\n",
       "  <tbody>\n",
       "    <tr>\n",
       "      <th>0</th>\n",
       "      <td>Abroad, Ghanaians</td>\n",
       "      <td>https://www.ghanaweb.com/GhanaHomePage/diaspora/</td>\n",
       "    </tr>\n",
       "    <tr>\n",
       "      <th>1</th>\n",
       "      <td>AFCON</td>\n",
       "      <td>https://www.ghanaweb.com/afcon/</td>\n",
       "    </tr>\n",
       "    <tr>\n",
       "      <th>2</th>\n",
       "      <td>African News</td>\n",
       "      <td>https://www.ghanaweb.com/GhanaHomePage/africa/</td>\n",
       "    </tr>\n",
       "    <tr>\n",
       "      <th>3</th>\n",
       "      <td>Athletics</td>\n",
       "      <td>https://www.ghanaweb.com/GhanaHomePage/athletics/</td>\n",
       "    </tr>\n",
       "    <tr>\n",
       "      <th>4</th>\n",
       "      <td>BBC Hausa News</td>\n",
       "      <td>https://www.ghanaweb.com/GhanaHomePage/bbc/hausa</td>\n",
       "    </tr>\n",
       "  </tbody>\n",
       "</table>\n",
       "</div>"
      ],
      "text/plain": [
       "       Section Title                                                Url\n",
       "0  Abroad, Ghanaians   https://www.ghanaweb.com/GhanaHomePage/diaspora/\n",
       "1              AFCON                    https://www.ghanaweb.com/afcon/\n",
       "2       African News     https://www.ghanaweb.com/GhanaHomePage/africa/\n",
       "3          Athletics  https://www.ghanaweb.com/GhanaHomePage/athletics/\n",
       "4     BBC Hausa News   https://www.ghanaweb.com/GhanaHomePage/bbc/hausa"
      ]
     },
     "execution_count": 90,
     "metadata": {},
     "output_type": "execute_result"
    }
   ],
   "source": [
    "del stories_urls_df['index']\n",
    "stories_urls_df.head()"
   ]
  },
  {
   "cell_type": "code",
   "execution_count": 92,
   "id": "1317501b",
   "metadata": {},
   "outputs": [],
   "source": [
    "stories_urls_df.to_csv(\"C:\\\\Users\\\\annieboadu\\\\OneDrive - Affinity Africa\\\\Documents\\\\ghana-web-data-main\\\\CSV files\\\\Selected_Sections_data.csv\")"
   ]
  },
  {
   "cell_type": "markdown",
   "id": "7a988bf7",
   "metadata": {},
   "source": [
    "## Getting news urls from selected sections"
   ]
  },
  {
   "cell_type": "code",
   "execution_count": 122,
   "id": "539475c5",
   "metadata": {},
   "outputs": [],
   "source": [
    "def get_story_urls(row):\n",
    "    try:\n",
    "        df = pd.DataFrame()\n",
    "        scraper = cloudscraper.create_scraper()\n",
    "        page = scraper.get(row[\"Url\"])\n",
    "        soup = BeautifulSoup(page.content, 'html.parser')\n",
    "        page_stories = soup.find_all(\"div\", class_ = \"afcon-news list\")\n",
    "        for ul in page_stories:\n",
    "            for li in ul.findAll('li'):\n",
    "                data = li.find(\"a\")\n",
    "                url = row['Url']+data.get('href')\n",
    "                temp_row = pd.DataFrame(data = [[row[\"Section Title\"], url]], columns = df_columns)\n",
    "                df = pd.concat([df,temp_row], ignore_index=True)  \n",
    "            time.sleep(20)\n",
    "    except:\n",
    "        pass\n",
    "\n",
    "    return df\n",
    "    "
   ]
  },
  {
   "cell_type": "code",
   "execution_count": 123,
   "id": "d2764f70",
   "metadata": {},
   "outputs": [],
   "source": [
    "url_df  = stories_urls_df.apply(lambda row : get_story_urls(row),axis = 1)"
   ]
  },
  {
   "cell_type": "code",
   "execution_count": 124,
   "id": "f1ccb34b",
   "metadata": {},
   "outputs": [],
   "source": [
    "df_columns = ['Section Title','Url']\n",
    "article_urls_df = pd.DataFrame(columns = df_columns)"
   ]
  },
  {
   "cell_type": "code",
   "execution_count": 125,
   "id": "67e00b81",
   "metadata": {},
   "outputs": [],
   "source": [
    "for row in url_df:\n",
    "    article_urls_df = article_urls_df.append(row)"
   ]
  },
  {
   "cell_type": "code",
   "execution_count": 128,
   "id": "52d78734",
   "metadata": {},
   "outputs": [
    {
     "data": {
      "text/html": [
       "<div>\n",
       "<style scoped>\n",
       "    .dataframe tbody tr th:only-of-type {\n",
       "        vertical-align: middle;\n",
       "    }\n",
       "\n",
       "    .dataframe tbody tr th {\n",
       "        vertical-align: top;\n",
       "    }\n",
       "\n",
       "    .dataframe thead th {\n",
       "        text-align: right;\n",
       "    }\n",
       "</style>\n",
       "<table border=\"1\" class=\"dataframe\">\n",
       "  <thead>\n",
       "    <tr style=\"text-align: right;\">\n",
       "      <th></th>\n",
       "      <th>Section Title</th>\n",
       "      <th>Url</th>\n",
       "    </tr>\n",
       "  </thead>\n",
       "  <tbody>\n",
       "    <tr>\n",
       "      <th>0</th>\n",
       "      <td>BBC Hausa News</td>\n",
       "      <td>https://www.ghanaweb.com/GhanaHomePage/bbc/hau...</td>\n",
       "    </tr>\n",
       "    <tr>\n",
       "      <th>1</th>\n",
       "      <td>BBC Hausa News</td>\n",
       "      <td>https://www.ghanaweb.com/GhanaHomePage/bbc/hau...</td>\n",
       "    </tr>\n",
       "    <tr>\n",
       "      <th>2</th>\n",
       "      <td>BBC Hausa News</td>\n",
       "      <td>https://www.ghanaweb.com/GhanaHomePage/bbc/hau...</td>\n",
       "    </tr>\n",
       "    <tr>\n",
       "      <th>3</th>\n",
       "      <td>BBC Hausa News</td>\n",
       "      <td>https://www.ghanaweb.com/GhanaHomePage/bbc/hau...</td>\n",
       "    </tr>\n",
       "    <tr>\n",
       "      <th>4</th>\n",
       "      <td>BBC Hausa News</td>\n",
       "      <td>https://www.ghanaweb.com/GhanaHomePage/bbc/hau...</td>\n",
       "    </tr>\n",
       "  </tbody>\n",
       "</table>\n",
       "</div>"
      ],
      "text/plain": [
       "    Section Title                                                Url\n",
       "0  BBC Hausa News  https://www.ghanaweb.com/GhanaHomePage/bbc/hau...\n",
       "1  BBC Hausa News  https://www.ghanaweb.com/GhanaHomePage/bbc/hau...\n",
       "2  BBC Hausa News  https://www.ghanaweb.com/GhanaHomePage/bbc/hau...\n",
       "3  BBC Hausa News  https://www.ghanaweb.com/GhanaHomePage/bbc/hau...\n",
       "4  BBC Hausa News  https://www.ghanaweb.com/GhanaHomePage/bbc/hau..."
      ]
     },
     "execution_count": 128,
     "metadata": {},
     "output_type": "execute_result"
    }
   ],
   "source": [
    "article_urls_df.head()"
   ]
  },
  {
   "cell_type": "code",
   "execution_count": 127,
   "id": "ddc4efcc",
   "metadata": {},
   "outputs": [],
   "source": [
    "article_urls_df.to_csv(\"C:\\\\Users\\\\annieboadu\\\\OneDrive - Affinity Africa\\\\Documents\\\\ghana-web-data-main\\\\CSV files\\\\Story Urls.csv\")"
   ]
  },
  {
   "cell_type": "code",
   "execution_count": 129,
   "id": "f9cef64a",
   "metadata": {},
   "outputs": [],
   "source": [
    "## add update to include scraping data from multiple pages"
   ]
  },
  {
   "cell_type": "code",
   "execution_count": null,
   "id": "9d794053",
   "metadata": {},
   "outputs": [],
   "source": []
  }
 ],
 "metadata": {
  "interpreter": {
   "hash": "3983a69a71ba65f379ca11b7271da0d7fd4a5f5f998a2bdf28810253fd0e4405"
  },
  "kernelspec": {
   "display_name": "Python 3.10.2 64-bit",
   "language": "python",
   "name": "python3"
  },
  "language_info": {
   "codemirror_mode": {
    "name": "ipython",
    "version": 3
   },
   "file_extension": ".py",
   "mimetype": "text/x-python",
   "name": "python",
   "nbconvert_exporter": "python",
   "pygments_lexer": "ipython3",
   "version": "3.10.2"
  }
 },
 "nbformat": 4,
 "nbformat_minor": 5
}
