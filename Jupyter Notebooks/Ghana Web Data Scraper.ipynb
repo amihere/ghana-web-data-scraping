{
 "cells": [
  {
   "cell_type": "markdown",
   "id": "bad397e5",
   "metadata": {},
   "source": [
    "## Importing Libraries"
   ]
  },
  {
   "cell_type": "code",
   "execution_count": 1,
   "id": "318088e4",
   "metadata": {},
   "outputs": [],
   "source": [
    "import pandas as pd\n",
    "import requests\n",
    "from bs4 import BeautifulSoup\n",
    "import time\n",
    "import cloudscraper\n",
    "import warnings\n",
    "warnings.filterwarnings(\"ignore\")"
   ]
  },
  {
   "cell_type": "markdown",
   "id": "56f002c6",
   "metadata": {},
   "source": [
    "## Retrieving data from Sitemap"
   ]
  },
  {
   "cell_type": "code",
   "execution_count": 2,
   "id": "9f351475",
   "metadata": {},
   "outputs": [],
   "source": [
    "base_url = 'https://www.ghanaweb.com'"
   ]
  },
  {
   "cell_type": "code",
   "execution_count": 3,
   "id": "4dbe41f9",
   "metadata": {},
   "outputs": [],
   "source": [
    "URL = \"https://www.ghanaweb.com/GhanaHomePage/sitemap.php\"\n",
    "page = requests.get(URL)\n",
    "\n",
    "#print(page.text)"
   ]
  },
  {
   "cell_type": "code",
   "execution_count": null,
   "id": "81a3de49",
   "metadata": {},
   "outputs": [],
   "source": [
    "soup = BeautifulSoup(page.content, 'html.parser')"
   ]
  },
  {
   "cell_type": "code",
   "execution_count": null,
   "id": "a729b1c0",
   "metadata": {},
   "outputs": [],
   "source": [
    "results = soup.find(id = \"medsection2\")"
   ]
  },
  {
   "cell_type": "raw",
   "id": "604fe00f",
   "metadata": {},
   "source": [
    "#print(results.prettify())"
   ]
  },
  {
   "cell_type": "code",
   "execution_count": null,
   "id": "649cc432",
   "metadata": {},
   "outputs": [],
   "source": [
    "site_map_data = results.find_all(\"dl\", class_ = \"resources\")"
   ]
  },
  {
   "cell_type": "code",
   "execution_count": null,
   "id": "91e1c0eb",
   "metadata": {},
   "outputs": [],
   "source": [
    "df_columns = ['Section','url']\n",
    "sections_df = pd.DataFrame(columns = df_columns)"
   ]
  },
  {
   "cell_type": "code",
   "execution_count": null,
   "id": "62e907b7",
   "metadata": {},
   "outputs": [],
   "source": [
    "for sections in site_map_data:\n",
    "    urls = sections.find_all(\"a\")\n",
    "    for url in urls:\n",
    "        temp_row = pd.DataFrame(data = [[url.text,base_url+url.get('href')]], columns = df_columns)\n",
    "        sections_df = pd.concat([sections_df,temp_row], ignore_index=True)"
   ]
  },
  {
   "cell_type": "code",
   "execution_count": null,
   "id": "dad0a725",
   "metadata": {},
   "outputs": [],
   "source": [
    "sections_df.head()"
   ]
  },
  {
   "cell_type": "markdown",
   "id": "3c3cefa6",
   "metadata": {},
   "source": [
    "## Selecting Story Sections with articles"
   ]
  },
  {
   "cell_type": "code",
   "execution_count": 4,
   "id": "ca5187ec",
   "metadata": {},
   "outputs": [],
   "source": [
    "section_list = [\"Abroad, Ghanaians\",\"AFCON\",\"African News\",\"Athletics\",\"BBC Hausa News\", \"BBC Pidgin News\",\"Business & Economy\",\n",
    "\"Coronavirus\",\"Crime News\",\"Editorial News\",\"Entertainment\",\"Health News\",\"Lifestyle\",\"Music\",\"Political News\",\n",
    "\"Regional News\",\"Sports Section\",\"Tabloid News\"]"
   ]
  },
  {
   "cell_type": "code",
   "execution_count": null,
   "id": "673a2639",
   "metadata": {},
   "outputs": [],
   "source": [
    "def get_section_urls(row):\n",
    "    df = pd.DataFrame()\n",
    "    if row['Section'] in section_list:\n",
    "        temp_row = pd.DataFrame(data = [[row[\"Section\"], row[\"url\"]]], columns = df_columns)\n",
    "        df = pd.concat([df,temp_row],ignore_index =True)\n",
    "    else:\n",
    "        pass\n",
    "\n",
    "    return df"
   ]
  },
  {
   "cell_type": "code",
   "execution_count": null,
   "id": "841e8275",
   "metadata": {},
   "outputs": [],
   "source": [
    "df = sections_df.apply(lambda row : get_section_urls(row),axis = 1)"
   ]
  },
  {
   "cell_type": "code",
   "execution_count": null,
   "id": "7adc8f05",
   "metadata": {},
   "outputs": [],
   "source": [
    "df_columns = ['Section Title','Url']\n",
    "stories_urls_df = pd.DataFrame(columns = df_columns)"
   ]
  },
  {
   "cell_type": "code",
   "execution_count": null,
   "id": "beeb2b61",
   "metadata": {},
   "outputs": [],
   "source": [
    "for row in df:\n",
    "    stories_urls_df = stories_urls_df.append(row)"
   ]
  },
  {
   "cell_type": "code",
   "execution_count": null,
   "id": "e7161f3b",
   "metadata": {},
   "outputs": [],
   "source": [
    "stories_urls_df.reset_index(inplace=True)"
   ]
  },
  {
   "cell_type": "code",
   "execution_count": null,
   "id": "cbd9ea22",
   "metadata": {},
   "outputs": [],
   "source": [
    "del stories_urls_df['index']\n",
    "stories_urls_df.head()"
   ]
  },
  {
   "cell_type": "code",
   "execution_count": null,
   "id": "1317501b",
   "metadata": {},
   "outputs": [],
   "source": [
    "stories_urls_df.to_csv(\"C:\\\\Users\\\\annieboadu\\\\OneDrive - Affinity Africa\\\\Documents\\\\ghana-web-data-main\\\\CSV files\\\\Selected_Sections_data.csv\")"
   ]
  }
 ],
 "metadata": {
  "interpreter": {
   "hash": "3983a69a71ba65f379ca11b7271da0d7fd4a5f5f998a2bdf28810253fd0e4405"
  },
  "kernelspec": {
   "display_name": "Python 3.10.2 64-bit",
   "language": "python",
   "name": "python3"
  },
  "language_info": {
   "codemirror_mode": {
    "name": "ipython",
    "version": 3
   },
   "file_extension": ".py",
   "mimetype": "text/x-python",
   "name": "python",
   "nbconvert_exporter": "python",
   "pygments_lexer": "ipython3",
   "version": "3.10.2"
  }
 },
 "nbformat": 4,
 "nbformat_minor": 5
}
