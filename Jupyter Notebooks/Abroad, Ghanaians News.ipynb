{
 "cells": [
  {
   "cell_type": "code",
   "execution_count": 1,
   "metadata": {},
   "outputs": [],
   "source": [
    "import pandas as pd\n",
    "import requests\n",
    "from bs4 import BeautifulSoup\n",
    "import time\n",
    "import cloudscraper\n",
    "import warnings\n",
    "warnings.filterwarnings(\"ignore\")"
   ]
  },
  {
   "cell_type": "code",
   "execution_count": 2,
   "metadata": {},
   "outputs": [],
   "source": [
    "stories_urls_df = pd.read_csv(\"C:\\\\Users\\\\annieboadu\\\\OneDrive - Affinity Africa\\\\Documents\\\\ghana-web-data-main\\\\CSV files\\\\Selected_Sections_data.csv\")"
   ]
  },
  {
   "cell_type": "code",
   "execution_count": 3,
   "metadata": {},
   "outputs": [],
   "source": [
    "abroad_gh = stories_urls_df[stories_urls_df['Section Title'] == \"Abroad, Ghanaians\"]"
   ]
  },
  {
   "cell_type": "markdown",
   "metadata": {},
   "source": [
    "## Getting story URLS"
   ]
  },
  {
   "cell_type": "code",
   "execution_count": 4,
   "metadata": {},
   "outputs": [],
   "source": [
    "df_columns = ['Section Title','Url','Url Extracted']"
   ]
  },
  {
   "cell_type": "code",
   "execution_count": 5,
   "metadata": {},
   "outputs": [],
   "source": [
    "def get_story_urls(row):\n",
    "    try:\n",
    "        df = pd.DataFrame()\n",
    "        scraper = cloudscraper.create_scraper()\n",
    "        page = scraper.get(row[\"Url\"])\n",
    "        soup = BeautifulSoup(page.content, 'html.parser')\n",
    "        page_stories = soup.find_all(\"div\", class_ = \"afcon-news list\")\n",
    "        for ul in page_stories:\n",
    "            for li in ul.findAll('li'):\n",
    "                data = li.find(\"a\")\n",
    "                url = row['Url']+data.get('href')\n",
    "                url_extracted = 0\n",
    "                temp_row = pd.DataFrame(data = [[row[\"Section Title\"], url,url_extracted]], columns = df_columns)\n",
    "                df = pd.concat([df,temp_row], ignore_index=True)  \n",
    "            time.sleep(20)\n",
    "    except:\n",
    "        pass\n",
    "\n",
    "    return df"
   ]
  },
  {
   "cell_type": "code",
   "execution_count": 6,
   "metadata": {},
   "outputs": [],
   "source": [
    "del abroad_gh['Unnamed: 0']"
   ]
  },
  {
   "cell_type": "code",
   "execution_count": 7,
   "metadata": {},
   "outputs": [],
   "source": [
    "url_df  = abroad_gh.apply(lambda row : get_story_urls(row),axis = 1)"
   ]
  },
  {
   "cell_type": "code",
   "execution_count": 9,
   "metadata": {},
   "outputs": [],
   "source": [
    "article_urls_df = pd.DataFrame(columns = df_columns)"
   ]
  },
  {
   "cell_type": "code",
   "execution_count": 10,
   "metadata": {},
   "outputs": [],
   "source": [
    "for row in url_df:\n",
    "    article_urls_df = article_urls_df.append(row)"
   ]
  },
  {
   "cell_type": "code",
   "execution_count": 17,
   "metadata": {},
   "outputs": [],
   "source": [
    "article_urls_df.to_csv(\"C:\\\\Users\\\\annieboadu\\\\OneDrive - Affinity Africa\\\\Documents\\\\ghana-web-data-main\\\\CSV files\\\\Abroad Ghanaians Urls.csv\")"
   ]
  },
  {
   "cell_type": "code",
   "execution_count": 12,
   "metadata": {},
   "outputs": [],
   "source": [
    "##push to db"
   ]
  },
  {
   "cell_type": "markdown",
   "metadata": {},
   "source": [
    "## Extracting Stories from urls"
   ]
  },
  {
   "cell_type": "code",
   "execution_count": 21,
   "metadata": {},
   "outputs": [],
   "source": [
    "story_df_columns = ['Section','Header','Date','Title','Information']\n",
    "stories_data = pd.DataFrame(columns = story_df_columns)"
   ]
  },
  {
   "cell_type": "code",
   "execution_count": 22,
   "metadata": {},
   "outputs": [],
   "source": [
    "def get_abroad_gh_articles(section_title,url):\n",
    "    df = pd.DataFrame()\n",
    "    try:\n",
    "        scraper = cloudscraper.create_scraper()\n",
    "        page = scraper.get(url)\n",
    "        soup = BeautifulSoup(page.content, 'html.parser')\n",
    "        page_stories = soup.find(id = \"medsection1\")\n",
    "        div_class = page_stories.find(\"div\", class_ = \"article-left-col\")\n",
    "        header = div_class.find('p', class_ = \"floatLeft\").text\n",
    "        date = div_class.find('a', id = \"date\").text\n",
    "        title = div_class.find('h1').text\n",
    "        info = div_class.find('p',id = \"article-123\").text\n",
    "        temp_row = pd.DataFrame(data = [[section_title, header, date, title, info]], columns = story_df_columns)\n",
    "        #stories_data = stories_data.append(temp_row)\n",
    "        df = pd.concat([df,temp_row],ignore_index =True)\n",
    "    except:\n",
    "        file_object = open(\"C:\\\\Users\\\\annieboadu\\\\OneDrive - Affinity Africa\\\\Documents\\\\ghana-web-data-main\\\\Error Urls\\\\article urls.txt\", 'a')\n",
    "        file_object.write(f'\\n\\n{section_title},{url}')\n",
    "        file_object.close()\n",
    "    return df"
   ]
  },
  {
   "cell_type": "code",
   "execution_count": 23,
   "metadata": {},
   "outputs": [],
   "source": [
    "abroad_gh_final_df = article_urls_df.apply(lambda row:get_abroad_gh_articles(row['Section Title'],row['Url']), axis = 1)"
   ]
  },
  {
   "cell_type": "code",
   "execution_count": 24,
   "metadata": {},
   "outputs": [
    {
     "data": {
      "text/plain": [
       "0                  Section                          ...\n",
       "1                 Empty DataFrame\n",
       "Columns: []\n",
       "Index: []\n",
       "2                 Empty DataFrame\n",
       "Columns: []\n",
       "Index: []\n",
       "3                 Empty DataFrame\n",
       "Columns: []\n",
       "Index: []\n",
       "4                  Section                          ...\n",
       "5                 Empty DataFrame\n",
       "Columns: []\n",
       "Index: []\n",
       "6                  Section                          ...\n",
       "7                 Empty DataFrame\n",
       "Columns: []\n",
       "Index: []\n",
       "8                  Section                          ...\n",
       "9                  Section                          ...\n",
       "10                 Section                          ...\n",
       "11                Empty DataFrame\n",
       "Columns: []\n",
       "Index: []\n",
       "12                 Section                          ...\n",
       "13                 Section                          ...\n",
       "14                 Section                          ...\n",
       "15                 Section                          ...\n",
       "16                 Section                          ...\n",
       "17                 Section                          ...\n",
       "18                Empty DataFrame\n",
       "Columns: []\n",
       "Index: []\n",
       "19                 Section                          ...\n",
       "20                 Section                          ...\n",
       "21                Empty DataFrame\n",
       "Columns: []\n",
       "Index: []\n",
       "22                Empty DataFrame\n",
       "Columns: []\n",
       "Index: []\n",
       "23                 Section                          ...\n",
       "24                 Section                          ...\n",
       "25                 Section                          ...\n",
       "26                 Section                          ...\n",
       "dtype: object"
      ]
     },
     "execution_count": 24,
     "metadata": {},
     "output_type": "execute_result"
    }
   ],
   "source": [
    "abroad_gh_final_df"
   ]
  },
  {
   "cell_type": "code",
   "execution_count": null,
   "metadata": {},
   "outputs": [],
   "source": []
  }
 ],
 "metadata": {
  "kernelspec": {
   "display_name": "Python 3.10.2 64-bit",
   "language": "python",
   "name": "python3"
  },
  "language_info": {
   "codemirror_mode": {
    "name": "ipython",
    "version": 3
   },
   "file_extension": ".py",
   "mimetype": "text/x-python",
   "name": "python",
   "nbconvert_exporter": "python",
   "pygments_lexer": "ipython3",
   "version": "3.10.2"
  },
  "orig_nbformat": 4,
  "vscode": {
   "interpreter": {
    "hash": "3983a69a71ba65f379ca11b7271da0d7fd4a5f5f998a2bdf28810253fd0e4405"
   }
  }
 },
 "nbformat": 4,
 "nbformat_minor": 2
}
