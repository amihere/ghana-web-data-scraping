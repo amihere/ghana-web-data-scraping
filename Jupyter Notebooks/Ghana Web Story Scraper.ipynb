{
 "cells": [
  {
   "cell_type": "markdown",
   "metadata": {},
   "source": [
    "## Importing Libraries"
   ]
  },
  {
   "cell_type": "code",
   "execution_count": 41,
   "metadata": {},
   "outputs": [],
   "source": [
    "import pandas as pd\n",
    "import cloudscraper\n",
    "from bs4 import BeautifulSoup\n",
    "import warnings\n",
    "warnings.filterwarnings(\"ignore\")"
   ]
  },
  {
   "cell_type": "markdown",
   "metadata": {},
   "source": [
    "## Reading url data"
   ]
  },
  {
   "cell_type": "code",
   "execution_count": 35,
   "metadata": {},
   "outputs": [],
   "source": [
    "data_df = pd.read_csv(\"C:\\\\Users\\\\annieboadu\\\\OneDrive - Affinity Africa\\\\Documents\\\\ghana-web-data-main\\\\CSV files\\\\Story Urls.csv\")"
   ]
  },
  {
   "cell_type": "code",
   "execution_count": 38,
   "metadata": {},
   "outputs": [],
   "source": [
    "del data_df['Unnamed: 0']"
   ]
  },
  {
   "cell_type": "code",
   "execution_count": 47,
   "metadata": {},
   "outputs": [],
   "source": [
    "global data_df"
   ]
  },
  {
   "cell_type": "code",
   "execution_count": 40,
   "metadata": {},
   "outputs": [
    {
     "data": {
      "text/html": [
       "<div>\n",
       "<style scoped>\n",
       "    .dataframe tbody tr th:only-of-type {\n",
       "        vertical-align: middle;\n",
       "    }\n",
       "\n",
       "    .dataframe tbody tr th {\n",
       "        vertical-align: top;\n",
       "    }\n",
       "\n",
       "    .dataframe thead th {\n",
       "        text-align: right;\n",
       "    }\n",
       "</style>\n",
       "<table border=\"1\" class=\"dataframe\">\n",
       "  <thead>\n",
       "    <tr style=\"text-align: right;\">\n",
       "      <th></th>\n",
       "      <th>Section Title</th>\n",
       "      <th>Url</th>\n",
       "    </tr>\n",
       "  </thead>\n",
       "  <tbody>\n",
       "    <tr>\n",
       "      <th>0</th>\n",
       "      <td>Abroad, Ghanaians</td>\n",
       "      <td>https://www.ghanaweb.com/GhanaHomePage/diaspor...</td>\n",
       "    </tr>\n",
       "    <tr>\n",
       "      <th>1</th>\n",
       "      <td>Abroad, Ghanaians</td>\n",
       "      <td>https://www.ghanaweb.com/GhanaHomePage/diaspor...</td>\n",
       "    </tr>\n",
       "    <tr>\n",
       "      <th>2</th>\n",
       "      <td>Abroad, Ghanaians</td>\n",
       "      <td>https://www.ghanaweb.com/GhanaHomePage/diaspor...</td>\n",
       "    </tr>\n",
       "    <tr>\n",
       "      <th>3</th>\n",
       "      <td>Abroad, Ghanaians</td>\n",
       "      <td>https://www.ghanaweb.com/GhanaHomePage/diaspor...</td>\n",
       "    </tr>\n",
       "    <tr>\n",
       "      <th>4</th>\n",
       "      <td>Abroad, Ghanaians</td>\n",
       "      <td>https://www.ghanaweb.com/GhanaHomePage/diaspor...</td>\n",
       "    </tr>\n",
       "  </tbody>\n",
       "</table>\n",
       "</div>"
      ],
      "text/plain": [
       "       Section Title                                                Url\n",
       "0  Abroad, Ghanaians  https://www.ghanaweb.com/GhanaHomePage/diaspor...\n",
       "1  Abroad, Ghanaians  https://www.ghanaweb.com/GhanaHomePage/diaspor...\n",
       "2  Abroad, Ghanaians  https://www.ghanaweb.com/GhanaHomePage/diaspor...\n",
       "3  Abroad, Ghanaians  https://www.ghanaweb.com/GhanaHomePage/diaspor...\n",
       "4  Abroad, Ghanaians  https://www.ghanaweb.com/GhanaHomePage/diaspor..."
      ]
     },
     "execution_count": 40,
     "metadata": {},
     "output_type": "execute_result"
    }
   ],
   "source": [
    "data_df.head()"
   ]
  },
  {
   "cell_type": "markdown",
   "metadata": {},
   "source": [
    "## Getting data in news articles"
   ]
  },
  {
   "cell_type": "code",
   "execution_count": null,
   "metadata": {},
   "outputs": [],
   "source": [
    "df_columns = ['Section','Header','Date','Title','Information']\n",
    "stories_data = pd.DataFrame(columns = df_columns)"
   ]
  },
  {
   "cell_type": "markdown",
   "metadata": {},
   "source": [
    "## Section: Abroad, Ghanaians"
   ]
  },
  {
   "cell_type": "code",
   "execution_count": 48,
   "metadata": {},
   "outputs": [],
   "source": [
    "def get_abroad_gh_articles(row):\n",
    "\n",
    "    print\n",
    "    #try:\n",
    "    scraper = cloudscraper.create_scraper()\n",
    "    page = scraper.get(row['Url'])\n",
    "    # print(page)\n",
    "    # soup = BeautifulSoup(page.content, 'html.parser')\n",
    "    # page_stories = soup.find(id = \"medsection1\")\n",
    "    # print(1)\n",
    "    # print(soup)\n",
    "    # div_class = page_stories.find(\"div\", class_ = \"article-left-col\")\n",
    "    # header = div_class.find('p', class_ = \"floatLeft\").text\n",
    "    # date = div_class.find('a', id = \"date\").text\n",
    "    # title = div_class.find('h1').text\n",
    "    # info = div_class.find('p',id = \"article-123\").text\n",
    "    # temp_row = pd.DataFrame(data = [[header,date, title,info]], columns = df_columns)\n",
    "    # stories_data = stories_data.append(temp_row)\n"
   ]
  },
  {
   "cell_type": "markdown",
   "metadata": {},
   "source": [
    "## Run all functions to generate stories"
   ]
  },
  {
   "cell_type": "code",
   "execution_count": 51,
   "metadata": {},
   "outputs": [],
   "source": [
    "def get_new_articles(df):\n",
    "    final_df = pd.DataFrame()\n",
    "    #abroad_ghanaians_news\n",
    "    abroad_ghanaians_df  = df[df['Section Title']=='Abroad, Ghanaians']\n",
    "    print(abroad_ghanaians_df)\n",
    "    final_df = abroad_ghanaians_df.apply(lambda row:get_abroad_gh_articles(row))\n",
    "\n",
    "\n",
    "    return final_df\n",
    "    "
   ]
  },
  {
   "cell_type": "code",
   "execution_count": 52,
   "metadata": {},
   "outputs": [
    {
     "name": "stdout",
     "output_type": "stream",
     "text": [
      "        Section Title                                                Url\n",
      "0   Abroad, Ghanaians  https://www.ghanaweb.com/GhanaHomePage/diaspor...\n",
      "1   Abroad, Ghanaians  https://www.ghanaweb.com/GhanaHomePage/diaspor...\n",
      "2   Abroad, Ghanaians  https://www.ghanaweb.com/GhanaHomePage/diaspor...\n",
      "3   Abroad, Ghanaians  https://www.ghanaweb.com/GhanaHomePage/diaspor...\n",
      "4   Abroad, Ghanaians  https://www.ghanaweb.com/GhanaHomePage/diaspor...\n",
      "5   Abroad, Ghanaians  https://www.ghanaweb.com/GhanaHomePage/diaspor...\n",
      "6   Abroad, Ghanaians  https://www.ghanaweb.com/GhanaHomePage/diaspor...\n",
      "7   Abroad, Ghanaians  https://www.ghanaweb.com/GhanaHomePage/diaspor...\n",
      "8   Abroad, Ghanaians  https://www.ghanaweb.com/GhanaHomePage/diaspor...\n",
      "9   Abroad, Ghanaians  https://www.ghanaweb.com/GhanaHomePage/diaspor...\n",
      "10  Abroad, Ghanaians  https://www.ghanaweb.com/GhanaHomePage/diaspor...\n",
      "11  Abroad, Ghanaians  https://www.ghanaweb.com/GhanaHomePage/diaspor...\n",
      "12  Abroad, Ghanaians  https://www.ghanaweb.com/GhanaHomePage/diaspor...\n",
      "13  Abroad, Ghanaians  https://www.ghanaweb.com/GhanaHomePage/diaspor...\n",
      "14  Abroad, Ghanaians  https://www.ghanaweb.com/GhanaHomePage/diaspor...\n",
      "15  Abroad, Ghanaians  https://www.ghanaweb.com/GhanaHomePage/diaspor...\n",
      "16  Abroad, Ghanaians  https://www.ghanaweb.com/GhanaHomePage/diaspor...\n",
      "17  Abroad, Ghanaians  https://www.ghanaweb.com/GhanaHomePage/diaspor...\n",
      "18  Abroad, Ghanaians  https://www.ghanaweb.com/GhanaHomePage/diaspor...\n",
      "19  Abroad, Ghanaians  https://www.ghanaweb.com/GhanaHomePage/diaspor...\n",
      "20  Abroad, Ghanaians  https://www.ghanaweb.com/GhanaHomePage/diaspor...\n",
      "21  Abroad, Ghanaians  https://www.ghanaweb.com/GhanaHomePage/diaspor...\n",
      "22  Abroad, Ghanaians  https://www.ghanaweb.com/GhanaHomePage/diaspor...\n",
      "23  Abroad, Ghanaians  https://www.ghanaweb.com/GhanaHomePage/diaspor...\n",
      "24  Abroad, Ghanaians  https://www.ghanaweb.com/GhanaHomePage/diaspor...\n",
      "25  Abroad, Ghanaians  https://www.ghanaweb.com/GhanaHomePage/diaspor...\n",
      "26  Abroad, Ghanaians  https://www.ghanaweb.com/GhanaHomePage/diaspor...\n"
     ]
    },
    {
     "ename": "KeyError",
     "evalue": "'Url'",
     "output_type": "error",
     "traceback": [
      "\u001b[1;31m---------------------------------------------------------------------------\u001b[0m",
      "\u001b[1;31mKeyError\u001b[0m                                  Traceback (most recent call last)",
      "File \u001b[1;32mc:\\Users\\annieboadu\\AppData\\Local\\Programs\\Python\\Python310\\lib\\site-packages\\pandas\\core\\indexes\\base.py:3621\u001b[0m, in \u001b[0;36mIndex.get_loc\u001b[1;34m(self, key, method, tolerance)\u001b[0m\n\u001b[0;32m   <a href='file:///c%3A/Users/annieboadu/AppData/Local/Programs/Python/Python310/lib/site-packages/pandas/core/indexes/base.py?line=3619'>3620</a>\u001b[0m \u001b[39mtry\u001b[39;00m:\n\u001b[1;32m-> <a href='file:///c%3A/Users/annieboadu/AppData/Local/Programs/Python/Python310/lib/site-packages/pandas/core/indexes/base.py?line=3620'>3621</a>\u001b[0m     \u001b[39mreturn\u001b[39;00m \u001b[39mself\u001b[39;49m\u001b[39m.\u001b[39;49m_engine\u001b[39m.\u001b[39;49mget_loc(casted_key)\n\u001b[0;32m   <a href='file:///c%3A/Users/annieboadu/AppData/Local/Programs/Python/Python310/lib/site-packages/pandas/core/indexes/base.py?line=3621'>3622</a>\u001b[0m \u001b[39mexcept\u001b[39;00m \u001b[39mKeyError\u001b[39;00m \u001b[39mas\u001b[39;00m err:\n",
      "File \u001b[1;32mc:\\Users\\annieboadu\\AppData\\Local\\Programs\\Python\\Python310\\lib\\site-packages\\pandas\\_libs\\index.pyx:136\u001b[0m, in \u001b[0;36mpandas._libs.index.IndexEngine.get_loc\u001b[1;34m()\u001b[0m\n",
      "File \u001b[1;32mc:\\Users\\annieboadu\\AppData\\Local\\Programs\\Python\\Python310\\lib\\site-packages\\pandas\\_libs\\index.pyx:144\u001b[0m, in \u001b[0;36mpandas._libs.index.IndexEngine.get_loc\u001b[1;34m()\u001b[0m\n",
      "File \u001b[1;32mpandas\\_libs\\index_class_helper.pxi:41\u001b[0m, in \u001b[0;36mpandas._libs.index.Int64Engine._check_type\u001b[1;34m()\u001b[0m\n",
      "\u001b[1;31mKeyError\u001b[0m: 'Url'",
      "\nThe above exception was the direct cause of the following exception:\n",
      "\u001b[1;31mKeyError\u001b[0m                                  Traceback (most recent call last)",
      "\u001b[1;32mc:\\Users\\annieboadu\\OneDrive - Affinity Africa\\Documents\\ghana-web-data-main\\Jupyter Notebooks\\Ghana Web Story Scraper.ipynb Cell 14'\u001b[0m in \u001b[0;36m<cell line: 1>\u001b[1;34m()\u001b[0m\n\u001b[1;32m----> <a href='vscode-notebook-cell:/c%3A/Users/annieboadu/OneDrive%20-%20Affinity%20Africa/Documents/ghana-web-data-main/Jupyter%20Notebooks/Ghana%20Web%20Story%20Scraper.ipynb#ch0000020?line=0'>1</a>\u001b[0m df_final \u001b[39m=\u001b[39m get_new_articles(data_df)\n",
      "\u001b[1;32mc:\\Users\\annieboadu\\OneDrive - Affinity Africa\\Documents\\ghana-web-data-main\\Jupyter Notebooks\\Ghana Web Story Scraper.ipynb Cell 13'\u001b[0m in \u001b[0;36mget_new_articles\u001b[1;34m(df)\u001b[0m\n\u001b[0;32m      <a href='vscode-notebook-cell:/c%3A/Users/annieboadu/OneDrive%20-%20Affinity%20Africa/Documents/ghana-web-data-main/Jupyter%20Notebooks/Ghana%20Web%20Story%20Scraper.ipynb#ch0000021?line=3'>4</a>\u001b[0m abroad_ghanaians_df  \u001b[39m=\u001b[39m df[df[\u001b[39m'\u001b[39m\u001b[39mSection Title\u001b[39m\u001b[39m'\u001b[39m]\u001b[39m==\u001b[39m\u001b[39m'\u001b[39m\u001b[39mAbroad, Ghanaians\u001b[39m\u001b[39m'\u001b[39m]\n\u001b[0;32m      <a href='vscode-notebook-cell:/c%3A/Users/annieboadu/OneDrive%20-%20Affinity%20Africa/Documents/ghana-web-data-main/Jupyter%20Notebooks/Ghana%20Web%20Story%20Scraper.ipynb#ch0000021?line=4'>5</a>\u001b[0m \u001b[39mprint\u001b[39m(abroad_ghanaians_df)\n\u001b[1;32m----> <a href='vscode-notebook-cell:/c%3A/Users/annieboadu/OneDrive%20-%20Affinity%20Africa/Documents/ghana-web-data-main/Jupyter%20Notebooks/Ghana%20Web%20Story%20Scraper.ipynb#ch0000021?line=5'>6</a>\u001b[0m final_df \u001b[39m=\u001b[39m abroad_ghanaians_df\u001b[39m.\u001b[39;49mapply(\u001b[39mlambda\u001b[39;49;00m row:get_abroad_gh_articles(row))\n\u001b[0;32m      <a href='vscode-notebook-cell:/c%3A/Users/annieboadu/OneDrive%20-%20Affinity%20Africa/Documents/ghana-web-data-main/Jupyter%20Notebooks/Ghana%20Web%20Story%20Scraper.ipynb#ch0000021?line=8'>9</a>\u001b[0m \u001b[39mreturn\u001b[39;00m final_df\n",
      "File \u001b[1;32mc:\\Users\\annieboadu\\AppData\\Local\\Programs\\Python\\Python310\\lib\\site-packages\\pandas\\core\\frame.py:8833\u001b[0m, in \u001b[0;36mDataFrame.apply\u001b[1;34m(self, func, axis, raw, result_type, args, **kwargs)\u001b[0m\n\u001b[0;32m   <a href='file:///c%3A/Users/annieboadu/AppData/Local/Programs/Python/Python310/lib/site-packages/pandas/core/frame.py?line=8821'>8822</a>\u001b[0m \u001b[39mfrom\u001b[39;00m \u001b[39mpandas\u001b[39;00m\u001b[39m.\u001b[39;00m\u001b[39mcore\u001b[39;00m\u001b[39m.\u001b[39;00m\u001b[39mapply\u001b[39;00m \u001b[39mimport\u001b[39;00m frame_apply\n\u001b[0;32m   <a href='file:///c%3A/Users/annieboadu/AppData/Local/Programs/Python/Python310/lib/site-packages/pandas/core/frame.py?line=8823'>8824</a>\u001b[0m op \u001b[39m=\u001b[39m frame_apply(\n\u001b[0;32m   <a href='file:///c%3A/Users/annieboadu/AppData/Local/Programs/Python/Python310/lib/site-packages/pandas/core/frame.py?line=8824'>8825</a>\u001b[0m     \u001b[39mself\u001b[39m,\n\u001b[0;32m   <a href='file:///c%3A/Users/annieboadu/AppData/Local/Programs/Python/Python310/lib/site-packages/pandas/core/frame.py?line=8825'>8826</a>\u001b[0m     func\u001b[39m=\u001b[39mfunc,\n\u001b[1;32m   (...)\u001b[0m\n\u001b[0;32m   <a href='file:///c%3A/Users/annieboadu/AppData/Local/Programs/Python/Python310/lib/site-packages/pandas/core/frame.py?line=8830'>8831</a>\u001b[0m     kwargs\u001b[39m=\u001b[39mkwargs,\n\u001b[0;32m   <a href='file:///c%3A/Users/annieboadu/AppData/Local/Programs/Python/Python310/lib/site-packages/pandas/core/frame.py?line=8831'>8832</a>\u001b[0m )\n\u001b[1;32m-> <a href='file:///c%3A/Users/annieboadu/AppData/Local/Programs/Python/Python310/lib/site-packages/pandas/core/frame.py?line=8832'>8833</a>\u001b[0m \u001b[39mreturn\u001b[39;00m op\u001b[39m.\u001b[39;49mapply()\u001b[39m.\u001b[39m__finalize__(\u001b[39mself\u001b[39m, method\u001b[39m=\u001b[39m\u001b[39m\"\u001b[39m\u001b[39mapply\u001b[39m\u001b[39m\"\u001b[39m)\n",
      "File \u001b[1;32mc:\\Users\\annieboadu\\AppData\\Local\\Programs\\Python\\Python310\\lib\\site-packages\\pandas\\core\\apply.py:727\u001b[0m, in \u001b[0;36mFrameApply.apply\u001b[1;34m(self)\u001b[0m\n\u001b[0;32m    <a href='file:///c%3A/Users/annieboadu/AppData/Local/Programs/Python/Python310/lib/site-packages/pandas/core/apply.py?line=723'>724</a>\u001b[0m \u001b[39melif\u001b[39;00m \u001b[39mself\u001b[39m\u001b[39m.\u001b[39mraw:\n\u001b[0;32m    <a href='file:///c%3A/Users/annieboadu/AppData/Local/Programs/Python/Python310/lib/site-packages/pandas/core/apply.py?line=724'>725</a>\u001b[0m     \u001b[39mreturn\u001b[39;00m \u001b[39mself\u001b[39m\u001b[39m.\u001b[39mapply_raw()\n\u001b[1;32m--> <a href='file:///c%3A/Users/annieboadu/AppData/Local/Programs/Python/Python310/lib/site-packages/pandas/core/apply.py?line=726'>727</a>\u001b[0m \u001b[39mreturn\u001b[39;00m \u001b[39mself\u001b[39;49m\u001b[39m.\u001b[39;49mapply_standard()\n",
      "File \u001b[1;32mc:\\Users\\annieboadu\\AppData\\Local\\Programs\\Python\\Python310\\lib\\site-packages\\pandas\\core\\apply.py:851\u001b[0m, in \u001b[0;36mFrameApply.apply_standard\u001b[1;34m(self)\u001b[0m\n\u001b[0;32m    <a href='file:///c%3A/Users/annieboadu/AppData/Local/Programs/Python/Python310/lib/site-packages/pandas/core/apply.py?line=849'>850</a>\u001b[0m \u001b[39mdef\u001b[39;00m \u001b[39mapply_standard\u001b[39m(\u001b[39mself\u001b[39m):\n\u001b[1;32m--> <a href='file:///c%3A/Users/annieboadu/AppData/Local/Programs/Python/Python310/lib/site-packages/pandas/core/apply.py?line=850'>851</a>\u001b[0m     results, res_index \u001b[39m=\u001b[39m \u001b[39mself\u001b[39;49m\u001b[39m.\u001b[39;49mapply_series_generator()\n\u001b[0;32m    <a href='file:///c%3A/Users/annieboadu/AppData/Local/Programs/Python/Python310/lib/site-packages/pandas/core/apply.py?line=852'>853</a>\u001b[0m     \u001b[39m# wrap results\u001b[39;00m\n\u001b[0;32m    <a href='file:///c%3A/Users/annieboadu/AppData/Local/Programs/Python/Python310/lib/site-packages/pandas/core/apply.py?line=853'>854</a>\u001b[0m     \u001b[39mreturn\u001b[39;00m \u001b[39mself\u001b[39m\u001b[39m.\u001b[39mwrap_results(results, res_index)\n",
      "File \u001b[1;32mc:\\Users\\annieboadu\\AppData\\Local\\Programs\\Python\\Python310\\lib\\site-packages\\pandas\\core\\apply.py:867\u001b[0m, in \u001b[0;36mFrameApply.apply_series_generator\u001b[1;34m(self)\u001b[0m\n\u001b[0;32m    <a href='file:///c%3A/Users/annieboadu/AppData/Local/Programs/Python/Python310/lib/site-packages/pandas/core/apply.py?line=863'>864</a>\u001b[0m \u001b[39mwith\u001b[39;00m option_context(\u001b[39m\"\u001b[39m\u001b[39mmode.chained_assignment\u001b[39m\u001b[39m\"\u001b[39m, \u001b[39mNone\u001b[39;00m):\n\u001b[0;32m    <a href='file:///c%3A/Users/annieboadu/AppData/Local/Programs/Python/Python310/lib/site-packages/pandas/core/apply.py?line=864'>865</a>\u001b[0m     \u001b[39mfor\u001b[39;00m i, v \u001b[39min\u001b[39;00m \u001b[39menumerate\u001b[39m(series_gen):\n\u001b[0;32m    <a href='file:///c%3A/Users/annieboadu/AppData/Local/Programs/Python/Python310/lib/site-packages/pandas/core/apply.py?line=865'>866</a>\u001b[0m         \u001b[39m# ignore SettingWithCopy here in case the user mutates\u001b[39;00m\n\u001b[1;32m--> <a href='file:///c%3A/Users/annieboadu/AppData/Local/Programs/Python/Python310/lib/site-packages/pandas/core/apply.py?line=866'>867</a>\u001b[0m         results[i] \u001b[39m=\u001b[39m \u001b[39mself\u001b[39;49m\u001b[39m.\u001b[39;49mf(v)\n\u001b[0;32m    <a href='file:///c%3A/Users/annieboadu/AppData/Local/Programs/Python/Python310/lib/site-packages/pandas/core/apply.py?line=867'>868</a>\u001b[0m         \u001b[39mif\u001b[39;00m \u001b[39misinstance\u001b[39m(results[i], ABCSeries):\n\u001b[0;32m    <a href='file:///c%3A/Users/annieboadu/AppData/Local/Programs/Python/Python310/lib/site-packages/pandas/core/apply.py?line=868'>869</a>\u001b[0m             \u001b[39m# If we have a view on v, we need to make a copy because\u001b[39;00m\n\u001b[0;32m    <a href='file:///c%3A/Users/annieboadu/AppData/Local/Programs/Python/Python310/lib/site-packages/pandas/core/apply.py?line=869'>870</a>\u001b[0m             \u001b[39m#  series_generator will swap out the underlying data\u001b[39;00m\n\u001b[0;32m    <a href='file:///c%3A/Users/annieboadu/AppData/Local/Programs/Python/Python310/lib/site-packages/pandas/core/apply.py?line=870'>871</a>\u001b[0m             results[i] \u001b[39m=\u001b[39m results[i]\u001b[39m.\u001b[39mcopy(deep\u001b[39m=\u001b[39m\u001b[39mFalse\u001b[39;00m)\n",
      "\u001b[1;32mc:\\Users\\annieboadu\\OneDrive - Affinity Africa\\Documents\\ghana-web-data-main\\Jupyter Notebooks\\Ghana Web Story Scraper.ipynb Cell 13'\u001b[0m in \u001b[0;36mget_new_articles.<locals>.<lambda>\u001b[1;34m(row)\u001b[0m\n\u001b[0;32m      <a href='vscode-notebook-cell:/c%3A/Users/annieboadu/OneDrive%20-%20Affinity%20Africa/Documents/ghana-web-data-main/Jupyter%20Notebooks/Ghana%20Web%20Story%20Scraper.ipynb#ch0000021?line=3'>4</a>\u001b[0m abroad_ghanaians_df  \u001b[39m=\u001b[39m df[df[\u001b[39m'\u001b[39m\u001b[39mSection Title\u001b[39m\u001b[39m'\u001b[39m]\u001b[39m==\u001b[39m\u001b[39m'\u001b[39m\u001b[39mAbroad, Ghanaians\u001b[39m\u001b[39m'\u001b[39m]\n\u001b[0;32m      <a href='vscode-notebook-cell:/c%3A/Users/annieboadu/OneDrive%20-%20Affinity%20Africa/Documents/ghana-web-data-main/Jupyter%20Notebooks/Ghana%20Web%20Story%20Scraper.ipynb#ch0000021?line=4'>5</a>\u001b[0m \u001b[39mprint\u001b[39m(abroad_ghanaians_df)\n\u001b[1;32m----> <a href='vscode-notebook-cell:/c%3A/Users/annieboadu/OneDrive%20-%20Affinity%20Africa/Documents/ghana-web-data-main/Jupyter%20Notebooks/Ghana%20Web%20Story%20Scraper.ipynb#ch0000021?line=5'>6</a>\u001b[0m final_df \u001b[39m=\u001b[39m abroad_ghanaians_df\u001b[39m.\u001b[39mapply(\u001b[39mlambda\u001b[39;00m row:get_abroad_gh_articles(row))\n\u001b[0;32m      <a href='vscode-notebook-cell:/c%3A/Users/annieboadu/OneDrive%20-%20Affinity%20Africa/Documents/ghana-web-data-main/Jupyter%20Notebooks/Ghana%20Web%20Story%20Scraper.ipynb#ch0000021?line=8'>9</a>\u001b[0m \u001b[39mreturn\u001b[39;00m final_df\n",
      "\u001b[1;32mc:\\Users\\annieboadu\\OneDrive - Affinity Africa\\Documents\\ghana-web-data-main\\Jupyter Notebooks\\Ghana Web Story Scraper.ipynb Cell 11'\u001b[0m in \u001b[0;36mget_abroad_gh_articles\u001b[1;34m(row)\u001b[0m\n\u001b[0;32m      <a href='vscode-notebook-cell:/c%3A/Users/annieboadu/OneDrive%20-%20Affinity%20Africa/Documents/ghana-web-data-main/Jupyter%20Notebooks/Ghana%20Web%20Story%20Scraper.ipynb#ch0000017?line=0'>1</a>\u001b[0m \u001b[39mdef\u001b[39;00m \u001b[39mget_abroad_gh_articles\u001b[39m(row):\n\u001b[0;32m      <a href='vscode-notebook-cell:/c%3A/Users/annieboadu/OneDrive%20-%20Affinity%20Africa/Documents/ghana-web-data-main/Jupyter%20Notebooks/Ghana%20Web%20Story%20Scraper.ipynb#ch0000017?line=1'>2</a>\u001b[0m \n\u001b[0;32m      <a href='vscode-notebook-cell:/c%3A/Users/annieboadu/OneDrive%20-%20Affinity%20Africa/Documents/ghana-web-data-main/Jupyter%20Notebooks/Ghana%20Web%20Story%20Scraper.ipynb#ch0000017?line=2'>3</a>\u001b[0m     \u001b[39m#try:\u001b[39;00m\n\u001b[0;32m      <a href='vscode-notebook-cell:/c%3A/Users/annieboadu/OneDrive%20-%20Affinity%20Africa/Documents/ghana-web-data-main/Jupyter%20Notebooks/Ghana%20Web%20Story%20Scraper.ipynb#ch0000017?line=3'>4</a>\u001b[0m     scraper \u001b[39m=\u001b[39m cloudscraper\u001b[39m.\u001b[39mcreate_scraper()\n\u001b[1;32m----> <a href='vscode-notebook-cell:/c%3A/Users/annieboadu/OneDrive%20-%20Affinity%20Africa/Documents/ghana-web-data-main/Jupyter%20Notebooks/Ghana%20Web%20Story%20Scraper.ipynb#ch0000017?line=4'>5</a>\u001b[0m     page \u001b[39m=\u001b[39m scraper\u001b[39m.\u001b[39mget(row[\u001b[39m'\u001b[39;49m\u001b[39mUrl\u001b[39;49m\u001b[39m'\u001b[39;49m])\n",
      "File \u001b[1;32mc:\\Users\\annieboadu\\AppData\\Local\\Programs\\Python\\Python310\\lib\\site-packages\\pandas\\core\\series.py:958\u001b[0m, in \u001b[0;36mSeries.__getitem__\u001b[1;34m(self, key)\u001b[0m\n\u001b[0;32m    <a href='file:///c%3A/Users/annieboadu/AppData/Local/Programs/Python/Python310/lib/site-packages/pandas/core/series.py?line=954'>955</a>\u001b[0m     \u001b[39mreturn\u001b[39;00m \u001b[39mself\u001b[39m\u001b[39m.\u001b[39m_values[key]\n\u001b[0;32m    <a href='file:///c%3A/Users/annieboadu/AppData/Local/Programs/Python/Python310/lib/site-packages/pandas/core/series.py?line=956'>957</a>\u001b[0m \u001b[39melif\u001b[39;00m key_is_scalar:\n\u001b[1;32m--> <a href='file:///c%3A/Users/annieboadu/AppData/Local/Programs/Python/Python310/lib/site-packages/pandas/core/series.py?line=957'>958</a>\u001b[0m     \u001b[39mreturn\u001b[39;00m \u001b[39mself\u001b[39;49m\u001b[39m.\u001b[39;49m_get_value(key)\n\u001b[0;32m    <a href='file:///c%3A/Users/annieboadu/AppData/Local/Programs/Python/Python310/lib/site-packages/pandas/core/series.py?line=959'>960</a>\u001b[0m \u001b[39mif\u001b[39;00m is_hashable(key):\n\u001b[0;32m    <a href='file:///c%3A/Users/annieboadu/AppData/Local/Programs/Python/Python310/lib/site-packages/pandas/core/series.py?line=960'>961</a>\u001b[0m     \u001b[39m# Otherwise index.get_value will raise InvalidIndexError\u001b[39;00m\n\u001b[0;32m    <a href='file:///c%3A/Users/annieboadu/AppData/Local/Programs/Python/Python310/lib/site-packages/pandas/core/series.py?line=961'>962</a>\u001b[0m     \u001b[39mtry\u001b[39;00m:\n\u001b[0;32m    <a href='file:///c%3A/Users/annieboadu/AppData/Local/Programs/Python/Python310/lib/site-packages/pandas/core/series.py?line=962'>963</a>\u001b[0m         \u001b[39m# For labels that don't resolve as scalars like tuples and frozensets\u001b[39;00m\n",
      "File \u001b[1;32mc:\\Users\\annieboadu\\AppData\\Local\\Programs\\Python\\Python310\\lib\\site-packages\\pandas\\core\\series.py:1069\u001b[0m, in \u001b[0;36mSeries._get_value\u001b[1;34m(self, label, takeable)\u001b[0m\n\u001b[0;32m   <a href='file:///c%3A/Users/annieboadu/AppData/Local/Programs/Python/Python310/lib/site-packages/pandas/core/series.py?line=1065'>1066</a>\u001b[0m     \u001b[39mreturn\u001b[39;00m \u001b[39mself\u001b[39m\u001b[39m.\u001b[39m_values[label]\n\u001b[0;32m   <a href='file:///c%3A/Users/annieboadu/AppData/Local/Programs/Python/Python310/lib/site-packages/pandas/core/series.py?line=1067'>1068</a>\u001b[0m \u001b[39m# Similar to Index.get_value, but we do not fall back to positional\u001b[39;00m\n\u001b[1;32m-> <a href='file:///c%3A/Users/annieboadu/AppData/Local/Programs/Python/Python310/lib/site-packages/pandas/core/series.py?line=1068'>1069</a>\u001b[0m loc \u001b[39m=\u001b[39m \u001b[39mself\u001b[39;49m\u001b[39m.\u001b[39;49mindex\u001b[39m.\u001b[39;49mget_loc(label)\n\u001b[0;32m   <a href='file:///c%3A/Users/annieboadu/AppData/Local/Programs/Python/Python310/lib/site-packages/pandas/core/series.py?line=1069'>1070</a>\u001b[0m \u001b[39mreturn\u001b[39;00m \u001b[39mself\u001b[39m\u001b[39m.\u001b[39mindex\u001b[39m.\u001b[39m_get_values_for_loc(\u001b[39mself\u001b[39m, loc, label)\n",
      "File \u001b[1;32mc:\\Users\\annieboadu\\AppData\\Local\\Programs\\Python\\Python310\\lib\\site-packages\\pandas\\core\\indexes\\base.py:3623\u001b[0m, in \u001b[0;36mIndex.get_loc\u001b[1;34m(self, key, method, tolerance)\u001b[0m\n\u001b[0;32m   <a href='file:///c%3A/Users/annieboadu/AppData/Local/Programs/Python/Python310/lib/site-packages/pandas/core/indexes/base.py?line=3620'>3621</a>\u001b[0m     \u001b[39mreturn\u001b[39;00m \u001b[39mself\u001b[39m\u001b[39m.\u001b[39m_engine\u001b[39m.\u001b[39mget_loc(casted_key)\n\u001b[0;32m   <a href='file:///c%3A/Users/annieboadu/AppData/Local/Programs/Python/Python310/lib/site-packages/pandas/core/indexes/base.py?line=3621'>3622</a>\u001b[0m \u001b[39mexcept\u001b[39;00m \u001b[39mKeyError\u001b[39;00m \u001b[39mas\u001b[39;00m err:\n\u001b[1;32m-> <a href='file:///c%3A/Users/annieboadu/AppData/Local/Programs/Python/Python310/lib/site-packages/pandas/core/indexes/base.py?line=3622'>3623</a>\u001b[0m     \u001b[39mraise\u001b[39;00m \u001b[39mKeyError\u001b[39;00m(key) \u001b[39mfrom\u001b[39;00m \u001b[39merr\u001b[39;00m\n\u001b[0;32m   <a href='file:///c%3A/Users/annieboadu/AppData/Local/Programs/Python/Python310/lib/site-packages/pandas/core/indexes/base.py?line=3623'>3624</a>\u001b[0m \u001b[39mexcept\u001b[39;00m \u001b[39mTypeError\u001b[39;00m:\n\u001b[0;32m   <a href='file:///c%3A/Users/annieboadu/AppData/Local/Programs/Python/Python310/lib/site-packages/pandas/core/indexes/base.py?line=3624'>3625</a>\u001b[0m     \u001b[39m# If we have a listlike key, _check_indexing_error will raise\u001b[39;00m\n\u001b[0;32m   <a href='file:///c%3A/Users/annieboadu/AppData/Local/Programs/Python/Python310/lib/site-packages/pandas/core/indexes/base.py?line=3625'>3626</a>\u001b[0m     \u001b[39m#  InvalidIndexError. Otherwise we fall through and re-raise\u001b[39;00m\n\u001b[0;32m   <a href='file:///c%3A/Users/annieboadu/AppData/Local/Programs/Python/Python310/lib/site-packages/pandas/core/indexes/base.py?line=3626'>3627</a>\u001b[0m     \u001b[39m#  the TypeError.\u001b[39;00m\n\u001b[0;32m   <a href='file:///c%3A/Users/annieboadu/AppData/Local/Programs/Python/Python310/lib/site-packages/pandas/core/indexes/base.py?line=3627'>3628</a>\u001b[0m     \u001b[39mself\u001b[39m\u001b[39m.\u001b[39m_check_indexing_error(key)\n",
      "\u001b[1;31mKeyError\u001b[0m: 'Url'"
     ]
    }
   ],
   "source": [
    "df_final = get_new_articles(data_df)"
   ]
  },
  {
   "cell_type": "code",
   "execution_count": 15,
   "metadata": {},
   "outputs": [
    {
     "data": {
      "text/html": [
       "<div>\n",
       "<style scoped>\n",
       "    .dataframe tbody tr th:only-of-type {\n",
       "        vertical-align: middle;\n",
       "    }\n",
       "\n",
       "    .dataframe tbody tr th {\n",
       "        vertical-align: top;\n",
       "    }\n",
       "\n",
       "    .dataframe thead th {\n",
       "        text-align: right;\n",
       "    }\n",
       "</style>\n",
       "<table border=\"1\" class=\"dataframe\">\n",
       "  <thead>\n",
       "    <tr style=\"text-align: right;\">\n",
       "      <th></th>\n",
       "      <th>Header</th>\n",
       "      <th>Date</th>\n",
       "      <th>Title</th>\n",
       "      <th>Information</th>\n",
       "    </tr>\n",
       "  </thead>\n",
       "  <tbody>\n",
       "  </tbody>\n",
       "</table>\n",
       "</div>"
      ],
      "text/plain": [
       "Empty DataFrame\n",
       "Columns: [Header, Date, Title, Information]\n",
       "Index: []"
      ]
     },
     "execution_count": 15,
     "metadata": {},
     "output_type": "execute_result"
    }
   ],
   "source": [
    "df_columns = ['Section','Header','Date','Title','Information']\n",
    "stories_data = pd.DataFrame(columns = df_columns)"
   ]
  },
  {
   "cell_type": "code",
   "execution_count": null,
   "metadata": {},
   "outputs": [],
   "source": [
    "for row in df_final:\n",
    "    stories_data = stories_data.append(row)"
   ]
  },
  {
   "cell_type": "code",
   "execution_count": null,
   "metadata": {},
   "outputs": [],
   "source": [
    "stories_data"
   ]
  }
 ],
 "metadata": {
  "interpreter": {
   "hash": "3983a69a71ba65f379ca11b7271da0d7fd4a5f5f998a2bdf28810253fd0e4405"
  },
  "kernelspec": {
   "display_name": "Python 3.10.2 64-bit",
   "language": "python",
   "name": "python3"
  },
  "language_info": {
   "codemirror_mode": {
    "name": "ipython",
    "version": 3
   },
   "file_extension": ".py",
   "mimetype": "text/x-python",
   "name": "python",
   "nbconvert_exporter": "python",
   "pygments_lexer": "ipython3",
   "version": "3.10.2"
  },
  "orig_nbformat": 4
 },
 "nbformat": 4,
 "nbformat_minor": 2
}
