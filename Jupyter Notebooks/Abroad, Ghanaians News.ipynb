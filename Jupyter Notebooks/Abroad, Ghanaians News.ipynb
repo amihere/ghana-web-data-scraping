{
 "cells": [
  {
   "cell_type": "code",
   "execution_count": 76,
   "metadata": {},
   "outputs": [],
   "source": [
    "import pandas as pd\n",
    "import requests\n",
    "from bs4 import BeautifulSoup\n",
    "import time\n",
    "import cloudscraper\n",
    "import warnings\n",
    "warnings.filterwarnings(\"ignore\")"
   ]
  },
  {
   "cell_type": "code",
   "execution_count": 77,
   "metadata": {},
   "outputs": [],
   "source": [
    "stories_urls_df = pd.read_csv(\"C:\\\\Users\\\\annieboadu\\\\OneDrive - Affinity Africa\\\\Documents\\\\ghana-web-data-main\\\\CSV files\\\\Selected_Sections_data.csv\")"
   ]
  },
  {
   "cell_type": "code",
   "execution_count": 78,
   "metadata": {},
   "outputs": [],
   "source": [
    "abroad_gh = stories_urls_df[stories_urls_df['Section'] == \"Abroad, Ghanaians\"]"
   ]
  },
  {
   "cell_type": "markdown",
   "metadata": {},
   "source": [
    "## Getting story URLS"
   ]
  },
  {
   "cell_type": "code",
   "execution_count": 79,
   "metadata": {},
   "outputs": [],
   "source": [
    "df_columns = ['Section Title','Url','Url Extracted']"
   ]
  },
  {
   "cell_type": "code",
   "execution_count": 80,
   "metadata": {},
   "outputs": [],
   "source": [
    "def get_story_urls(row):\n",
    "    # try:\n",
    "    df = pd.DataFrame()\n",
    "    scraper = cloudscraper.create_scraper()\n",
    "    page = scraper.get(row[\"url\"])\n",
    "    soup = BeautifulSoup(page.content, 'html.parser')\n",
    "    page_stories = soup.find_all(\"div\", class_ = \"afcon-news list\")\n",
    "    for ul in page_stories:\n",
    "        for li in ul.findAll('li'):\n",
    "            data = li.find(\"a\")\n",
    "            url = row['url']+data.get('href')\n",
    "            url_extracted = 0\n",
    "            temp_row = pd.DataFrame(data = [[row[\"Section\"], url,url_extracted]], columns = df_columns)\n",
    "            df = pd.concat([df,temp_row], ignore_index=True)  \n",
    "        time.sleep(20)\n",
    "    # except:\n",
    "    #     pass\n",
    "\n",
    "    return df"
   ]
  },
  {
   "cell_type": "code",
   "execution_count": 81,
   "metadata": {},
   "outputs": [],
   "source": [
    "url_df  = abroad_gh.apply(lambda row : get_story_urls(row),axis = 1)"
   ]
  },
  {
   "cell_type": "code",
   "execution_count": 82,
   "metadata": {},
   "outputs": [],
   "source": [
    "article_urls_df = pd.DataFrame(columns = df_columns)"
   ]
  },
  {
   "cell_type": "code",
   "execution_count": 83,
   "metadata": {},
   "outputs": [],
   "source": [
    "for row in url_df:\n",
    "    article_urls_df = article_urls_df.append(row)"
   ]
  },
  {
   "cell_type": "code",
   "execution_count": 84,
   "metadata": {},
   "outputs": [],
   "source": [
    "article_urls_df.to_csv(\"C:\\\\Users\\\\annieboadu\\\\OneDrive - Affinity Africa\\\\Documents\\\\ghana-web-data-main\\\\CSV files\\\\Abroad Ghanaians Urls.csv\")"
   ]
  },
  {
   "cell_type": "code",
   "execution_count": 85,
   "metadata": {},
   "outputs": [],
   "source": [
    "##push to db"
   ]
  },
  {
   "cell_type": "markdown",
   "metadata": {},
   "source": [
    "## Extracting Stories from urls"
   ]
  },
  {
   "cell_type": "code",
   "execution_count": 86,
   "metadata": {},
   "outputs": [],
   "source": [
    "story_df_columns = ['Section','Header','Date','Title','Information']\n",
    "stories_data = pd.DataFrame(columns = story_df_columns)"
   ]
  },
  {
   "cell_type": "code",
   "execution_count": 87,
   "metadata": {},
   "outputs": [],
   "source": [
    "def scrape_song_lyrics(url):\n",
    "    page = requests.get(url)\n",
    "    html = BeautifulSoup(page.text, 'html.parser')\n",
    "    \n",
    "    try:\n",
    "        lyrics = html.find('div', class_='lyrics').get_text()\n",
    "    except AttributeError:\n",
    "        print('cannot find the target div: lyrics')\n",
    "        return None\n",
    "    \n",
    "    else:\n",
    "        #remove identifiers like chorus, verse, etc\n",
    "        lyrics = re.sub(r'[\\(\\[].*?[\\)\\]]', '', lyrics)\n",
    "        #remove empty lines\n",
    "        lyrics = os.linesep.join([s for s in lyrics.splitlines() if s]) \n",
    "        return lyrics"
   ]
  },
  {
   "cell_type": "code",
   "execution_count": 88,
   "metadata": {},
   "outputs": [],
   "source": [
    "def get_abroad_gh_articles(section_title,url):\n",
    "    df = pd.DataFrame()\n",
    "    scraper = cloudscraper.create_scraper()\n",
    "    page = scraper.get(url)\n",
    "    soup = BeautifulSoup(page.content, 'html.parser')\n",
    "    page_stories = soup.find(id = \"medsection1\")\n",
    "    try:\n",
    "        div_class = page_stories.find(\"div\", class_ = \"article-left-col\")       \n",
    "    except AttributeError:\n",
    "        print('cannot find the target div: article-left-col')\n",
    "        file_object = open(\"C:\\\\Users\\\\annieboadu\\\\OneDrive - Affinity Africa\\\\Documents\\\\ghana-web-data-main\\\\Error Urls\\\\article urls.txt\", 'a')\n",
    "        file_object.write(f'\\n\\n{section_title},{url}')\n",
    "        file_object.close()\n",
    "        return None\n",
    "    else:\n",
    "        header = div_class.find('p', class_ = \"floatLeft\").text\n",
    "        date = div_class.find('a', id = \"date\").text\n",
    "        title = div_class.find('h1').text\n",
    "        info = div_class.find('p',id = \"article-123\").text\n",
    "        temp_row = pd.DataFrame(data = [[section_title, header, date, title, info]], columns = story_df_columns)\n",
    "        df = pd.concat([df,temp_row],ignore_index =True)\n",
    "    return df"
   ]
  },
  {
   "cell_type": "code",
   "execution_count": 89,
   "metadata": {},
   "outputs": [
    {
     "name": "stdout",
     "output_type": "stream",
     "text": [
      "cannot find the target div: article-left-col\n",
      "cannot find the target div: article-left-col\n",
      "cannot find the target div: article-left-col\n",
      "cannot find the target div: article-left-col\n",
      "cannot find the target div: article-left-col\n",
      "cannot find the target div: article-left-col\n"
     ]
    }
   ],
   "source": [
    "abroad_gh_final_df = article_urls_df.apply(lambda row:get_abroad_gh_articles(row['Section Title'],row['Url']), axis = 1)"
   ]
  },
  {
   "cell_type": "code",
   "execution_count": 90,
   "metadata": {},
   "outputs": [],
   "source": [
    "abroad_stories_urls_df = pd.DataFrame(columns = story_df_columns)"
   ]
  },
  {
   "cell_type": "code",
   "execution_count": 91,
   "metadata": {},
   "outputs": [],
   "source": [
    "for row in abroad_gh_final_df:\n",
    "    abroad_stories_urls_df = abroad_stories_urls_df.append(row)"
   ]
  },
  {
   "cell_type": "code",
   "execution_count": 92,
   "metadata": {},
   "outputs": [],
   "source": [
    "abroad_stories_urls_df.reset_index(inplace=True)"
   ]
  },
  {
   "cell_type": "code",
   "execution_count": 93,
   "metadata": {},
   "outputs": [],
   "source": [
    "del abroad_stories_urls_df[\"index\"]"
   ]
  },
  {
   "cell_type": "code",
   "execution_count": 94,
   "metadata": {},
   "outputs": [
    {
     "data": {
      "text/html": [
       "<div>\n",
       "<style scoped>\n",
       "    .dataframe tbody tr th:only-of-type {\n",
       "        vertical-align: middle;\n",
       "    }\n",
       "\n",
       "    .dataframe tbody tr th {\n",
       "        vertical-align: top;\n",
       "    }\n",
       "\n",
       "    .dataframe thead th {\n",
       "        text-align: right;\n",
       "    }\n",
       "</style>\n",
       "<table border=\"1\" class=\"dataframe\">\n",
       "  <thead>\n",
       "    <tr style=\"text-align: right;\">\n",
       "      <th></th>\n",
       "      <th>Section</th>\n",
       "      <th>Header</th>\n",
       "      <th>Date</th>\n",
       "      <th>Title</th>\n",
       "      <th>Information</th>\n",
       "    </tr>\n",
       "  </thead>\n",
       "  <tbody>\n",
       "    <tr>\n",
       "      <th>0</th>\n",
       "      <td>Abroad, Ghanaians</td>\n",
       "      <td>Diasporia News of Sunday,  3 July 2022</td>\n",
       "      <td>2022-07-03</td>\n",
       "      <td>Hands Across Africa Team calls on Diaspora Aff...</td>\n",
       "      <td>The Hands Across Africa team from the Caribbea...</td>\n",
       "    </tr>\n",
       "    <tr>\n",
       "      <th>1</th>\n",
       "      <td>Abroad, Ghanaians</td>\n",
       "      <td>Diasporia News of Friday,  1 July 2022</td>\n",
       "      <td>2022-07-01</td>\n",
       "      <td>NPP UK appoints executives for the next 4 years</td>\n",
       "      <td>On Sunday 26th June 2022, the Chairman of NPP ...</td>\n",
       "    </tr>\n",
       "    <tr>\n",
       "      <th>2</th>\n",
       "      <td>Abroad, Ghanaians</td>\n",
       "      <td>Diasporia News of Friday,  1 July 2022</td>\n",
       "      <td>2022-07-01</td>\n",
       "      <td>Foreign investors are ‘using’ Ghana, but citiz...</td>\n",
       "      <td>Norwegian and University of Ghana Alumni Birte...</td>\n",
       "    </tr>\n",
       "    <tr>\n",
       "      <th>3</th>\n",
       "      <td>Abroad, Ghanaians</td>\n",
       "      <td>Diasporia News of Friday,  1 July 2022</td>\n",
       "      <td>2022-07-01</td>\n",
       "      <td>My ex-wife’s attitude changed after I brought ...</td>\n",
       "      <td>Denmark-based Ghanaian Issac Baidoo has reveal...</td>\n",
       "    </tr>\n",
       "    <tr>\n",
       "      <th>4</th>\n",
       "      <td>Abroad, Ghanaians</td>\n",
       "      <td>Diasporia News of Thursday, 30 June 2022</td>\n",
       "      <td>2022-06-30</td>\n",
       "      <td>A patient head-butted me and caused a brain in...</td>\n",
       "      <td>US-based Ghanaian Mr Phillip Ofori Yentumi has...</td>\n",
       "    </tr>\n",
       "  </tbody>\n",
       "</table>\n",
       "</div>"
      ],
      "text/plain": [
       "             Section                                    Header        Date  \\\n",
       "0  Abroad, Ghanaians    Diasporia News of Sunday,  3 July 2022  2022-07-03   \n",
       "1  Abroad, Ghanaians    Diasporia News of Friday,  1 July 2022  2022-07-01   \n",
       "2  Abroad, Ghanaians    Diasporia News of Friday,  1 July 2022  2022-07-01   \n",
       "3  Abroad, Ghanaians    Diasporia News of Friday,  1 July 2022  2022-07-01   \n",
       "4  Abroad, Ghanaians  Diasporia News of Thursday, 30 June 2022  2022-06-30   \n",
       "\n",
       "                                               Title  \\\n",
       "0  Hands Across Africa Team calls on Diaspora Aff...   \n",
       "1    NPP UK appoints executives for the next 4 years   \n",
       "2  Foreign investors are ‘using’ Ghana, but citiz...   \n",
       "3  My ex-wife’s attitude changed after I brought ...   \n",
       "4  A patient head-butted me and caused a brain in...   \n",
       "\n",
       "                                         Information  \n",
       "0  The Hands Across Africa team from the Caribbea...  \n",
       "1  On Sunday 26th June 2022, the Chairman of NPP ...  \n",
       "2  Norwegian and University of Ghana Alumni Birte...  \n",
       "3  Denmark-based Ghanaian Issac Baidoo has reveal...  \n",
       "4  US-based Ghanaian Mr Phillip Ofori Yentumi has...  "
      ]
     },
     "execution_count": 94,
     "metadata": {},
     "output_type": "execute_result"
    }
   ],
   "source": [
    "abroad_stories_urls_df.head()"
   ]
  },
  {
   "cell_type": "code",
   "execution_count": null,
   "metadata": {},
   "outputs": [],
   "source": []
  }
 ],
 "metadata": {
  "kernelspec": {
   "display_name": "Python 3.10.2 64-bit",
   "language": "python",
   "name": "python3"
  },
  "language_info": {
   "codemirror_mode": {
    "name": "ipython",
    "version": 3
   },
   "file_extension": ".py",
   "mimetype": "text/x-python",
   "name": "python",
   "nbconvert_exporter": "python",
   "pygments_lexer": "ipython3",
   "version": "3.10.2"
  },
  "orig_nbformat": 4,
  "vscode": {
   "interpreter": {
    "hash": "3983a69a71ba65f379ca11b7271da0d7fd4a5f5f998a2bdf28810253fd0e4405"
   }
  }
 },
 "nbformat": 4,
 "nbformat_minor": 2
}
