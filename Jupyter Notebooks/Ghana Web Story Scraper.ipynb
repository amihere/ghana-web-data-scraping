{
 "cells": [
  {
   "cell_type": "code",
   "execution_count": 2,
   "metadata": {},
   "outputs": [],
   "source": [
    "import pandas as pd\n"
   ]
  },
  {
   "cell_type": "code",
   "execution_count": 3,
   "metadata": {},
   "outputs": [],
   "source": [
    "data_df = pd.read_csv(\"C:\\\\Users\\\\annieboadu\\\\OneDrive - Affinity Africa\\\\Documents\\\\ghana-web-data-main\\\\CSV files\\\\Story Urls.csv\")"
   ]
  },
  {
   "cell_type": "code",
   "execution_count": 4,
   "metadata": {},
   "outputs": [],
   "source": [
    "data_df = data_df[0:5]"
   ]
  },
  {
   "cell_type": "code",
   "execution_count": 5,
   "metadata": {},
   "outputs": [],
   "source": [
    "df_columns = ['Header','Date','Title','Information']\n",
    "stories_data = pd.DataFrame(columns = df_columns)"
   ]
  },
  {
   "cell_type": "markdown",
   "metadata": {},
   "source": [
    "for data in data_df['url']:\n",
    "    #try:\n",
    "    scraper = cloudscraper.create_scraper()\n",
    "    page = scraper.get(data)\n",
    "    soup = BeautifulSoup(page.content, 'html.parser')\n",
    "    page_stories = soup.find(id = \"medsection1\")\n",
    "    print(1)\n",
    "    print(soup)\n",
    "    div_class = page_stories.find(\"div\", class_ = \"article-left-col\")\n",
    "    header = div_class.find('p', class_ = \"floatLeft\").text\n",
    "    date = div_class.find('a', id = \"date\").text\n",
    "    title = div_class.find('h1').text\n",
    "    info = div_class.find('p',id = \"article-123\").text\n",
    "    temp_row = pd.DataFrame(data = [[header,date, title,info]], columns = df_columns)\n",
    "    stories_data = stories_data.append(temp_row)\n",
    "\n",
    "\n",
    "    \n",
    "#     div_class = page_stories.find_all(\"div\", class_ = \"article-left-col\")\n",
    "#     for div in div_class:\n",
    "#         for p in div.find('p'):\n",
    "#             date = p\n",
    "#     for div in div_class:\n",
    "#         for h1 in div.find('h1'):\n",
    "#             title = h1\n",
    "#     for div in div_class:\n",
    "#         for p in div.find_all('div'):\n",
    "#             for s in p.find_all('p',id = \"article-123\"):\n",
    "#                 info = s.textprint(div_class.find_all('br').text)\n",
    "#     temp_row = pd.DataFrame(data = [[header,date, title,info]], columns = df_columns)\n",
    "#     stories_data = stories_data.append(temp_row)\n",
    "\n",
    "    #except:\n",
    "        #print(div_class)"
   ]
  },
  {
   "cell_type": "code",
   "execution_count": null,
   "metadata": {},
   "outputs": [],
   "source": [
    "stories_data['Information'] = stories_data['Information'].replace(\"\\n\\r\\n\",\"\")"
   ]
  },
  {
   "cell_type": "code",
   "execution_count": null,
   "metadata": {},
   "outputs": [],
   "source": [
    "stories_data.reset_index(inplace = True)\n",
    "del stories_data['index']"
   ]
  },
  {
   "cell_type": "code",
   "execution_count": null,
   "metadata": {},
   "outputs": [],
   "source": [
    "stories_data"
   ]
  },
  {
   "cell_type": "code",
   "execution_count": null,
   "metadata": {},
   "outputs": [],
   "source": [
    "stories_data['Information'][0]"
   ]
  },
  {
   "cell_type": "code",
   "execution_count": null,
   "metadata": {},
   "outputs": [],
   "source": []
  },
  {
   "cell_type": "code",
   "execution_count": null,
   "metadata": {},
   "outputs": [],
   "source": []
  }
 ],
 "metadata": {
  "interpreter": {
   "hash": "3983a69a71ba65f379ca11b7271da0d7fd4a5f5f998a2bdf28810253fd0e4405"
  },
  "kernelspec": {
   "display_name": "Python 3.10.2 64-bit",
   "language": "python",
   "name": "python3"
  },
  "language_info": {
   "codemirror_mode": {
    "name": "ipython",
    "version": 3
   },
   "file_extension": ".py",
   "mimetype": "text/x-python",
   "name": "python",
   "nbconvert_exporter": "python",
   "pygments_lexer": "ipython3",
   "version": "3.10.2"
  },
  "orig_nbformat": 4
 },
 "nbformat": 4,
 "nbformat_minor": 2
}
