{
 "cells": [
  {
   "cell_type": "markdown",
   "metadata": {},
   "source": [
    "## Importing Libraries"
   ]
  },
  {
   "cell_type": "code",
   "execution_count": 1,
   "metadata": {},
   "outputs": [],
   "source": [
    "import pandas as pd\n",
    "import cloudscraper\n",
    "from bs4 import BeautifulSoup\n",
    "import warnings\n",
    "warnings.filterwarnings(\"ignore\")"
   ]
  },
  {
   "cell_type": "markdown",
   "metadata": {},
   "source": [
    "## Reading url data"
   ]
  },
  {
   "cell_type": "code",
   "execution_count": 2,
   "metadata": {},
   "outputs": [],
   "source": [
    "data_df = pd.read_csv(\"C:\\\\Users\\\\annieboadu\\\\OneDrive - Affinity Africa\\\\Documents\\\\ghana-web-data-main\\\\CSV files\\\\Story Urls.csv\")"
   ]
  },
  {
   "cell_type": "code",
   "execution_count": 3,
   "metadata": {},
   "outputs": [],
   "source": [
    "del data_df['Unnamed: 0']"
   ]
  },
  {
   "cell_type": "code",
   "execution_count": 4,
   "metadata": {},
   "outputs": [
    {
     "name": "stdout",
     "output_type": "stream",
     "text": [
      "<class 'pandas.core.frame.DataFrame'>\n",
      "RangeIndex: 423 entries, 0 to 422\n",
      "Data columns (total 3 columns):\n",
      " #   Column         Non-Null Count  Dtype \n",
      "---  ------         --------------  ----- \n",
      " 0   Section Title  423 non-null    object\n",
      " 1   Url            423 non-null    object\n",
      " 2   Url Extracted  423 non-null    int64 \n",
      "dtypes: int64(1), object(2)\n",
      "memory usage: 10.0+ KB\n"
     ]
    }
   ],
   "source": [
    "#global data_df\n",
    "data_df.info()"
   ]
  },
  {
   "cell_type": "code",
   "execution_count": 5,
   "metadata": {},
   "outputs": [
    {
     "data": {
      "text/plain": [
       "array(['Abroad, Ghanaians', 'Athletics', 'Editorial News', 'Health News',\n",
       "       'Lifestyle', 'Regional News', 'Tabloid News'], dtype=object)"
      ]
     },
     "execution_count": 5,
     "metadata": {},
     "output_type": "execute_result"
    }
   ],
   "source": [
    "data_df['Section Title'].unique()"
   ]
  },
  {
   "cell_type": "code",
   "execution_count": 5,
   "metadata": {},
   "outputs": [],
   "source": [
    "#data_df.head()"
   ]
  },
  {
   "cell_type": "markdown",
   "metadata": {},
   "source": [
    "# Getting data in news articles"
   ]
  },
  {
   "cell_type": "code",
   "execution_count": 6,
   "metadata": {},
   "outputs": [],
   "source": [
    "df_columns = ['Section','Header','Date','Title','Information']\n",
    "stories_data = pd.DataFrame(columns = df_columns)"
   ]
  },
  {
   "cell_type": "markdown",
   "metadata": {},
   "source": [
    "## Section: Abroad, Ghanaians"
   ]
  },
  {
   "cell_type": "code",
   "execution_count": 17,
   "metadata": {},
   "outputs": [],
   "source": [
    "def get_abroad_gh_articles(section_title,url):\n",
    "    df = pd.DataFrame()\n",
    "    try:\n",
    "        scraper = cloudscraper.create_scraper()\n",
    "        page = scraper.get(url)\n",
    "        #print(page.text)\n",
    "        soup = BeautifulSoup(page.content, 'html.parser')\n",
    "        page_stories = soup.find(id = \"medsection1\")\n",
    "        div_class = page_stories.find(\"div\", class_ = \"article-left-col\")\n",
    "        #print(div_class)\n",
    "        header = div_class.find('p', class_ = \"floatLeft\").text\n",
    "        date = div_class.find('a', id = \"date\").text\n",
    "        title = div_class.find('h1').text\n",
    "        info = div_class.find('p',id = \"article-123\").text\n",
    "        temp_row = pd.DataFrame(data = [[section_title, header, date, title, info]], columns = df_columns)\n",
    "        #stories_data = stories_data.append(temp_row)\n",
    "        df = pd.concat([df,temp_row],ignore_index =True)\n",
    "    except:\n",
    "        file_object = open(\"C:\\\\Users\\\\annieboadu\\\\OneDrive - Affinity Africa\\\\Documents\\\\ghana-web-data-main\\\\Error Urls\\\\article urls.txt\", 'a')\n",
    "        file_object.write(f'\\n\\n{section_title},{url}')\n",
    "        file_object.close()\n",
    "    #print(df)\n",
    "    return df\n"
   ]
  },
  {
   "cell_type": "markdown",
   "metadata": {},
   "source": [
    "## Section: BBC Pidgin"
   ]
  },
  {
   "cell_type": "code",
   "execution_count": 58,
   "metadata": {},
   "outputs": [],
   "source": [
    "def get_bbc_pidgin_articles(section_title,url):\n",
    "    df = pd.DataFrame()\n",
    "    #try:\n",
    "    scraper = cloudscraper.create_scraper()\n",
    "    page = scraper.get(url)\n",
    "    print(page.text)\n"
   ]
  },
  {
   "cell_type": "markdown",
   "metadata": {},
   "source": [
    "## Run all functions to generate stories"
   ]
  },
  {
   "cell_type": "code",
   "execution_count": 18,
   "metadata": {},
   "outputs": [],
   "source": [
    "def get_new_articles(df):\n",
    "    final_df = pd.DataFrame()\n",
    "    #ABROAD GHANAIANS NEWS\n",
    "    \n",
    "    abroad_ghanaians_df  = df[df['Section Title']==\"Abroad, Ghanaians\"]\n",
    "    #abroad_ghanaians_df = abroad_ghanaians_df.iloc[0:4]\n",
    "\n",
    "    abroad_gh_final_df = abroad_ghanaians_df.apply(lambda row:get_abroad_gh_articles(row['Section Title'],row['Url']), axis = 1)\n",
    "    #print(abroad_gh_final_df)\n",
    "\n",
    "    # #BBC PIDGIN\n",
    "    # bbc_pidgin  = df[df['Section Title']==\"BBC Pidgin News\"]\n",
    "    # bbc_pidgin = bbc_pidgin.iloc[0:1]\n",
    "    # #print(bbc_pidgin)\n",
    "\n",
    "    \n",
    "    # bbc_pidgin_final_df  = bbc_pidgin.apply(lambda row:get_bbc_pidgin_articles(row['Section Title'],row['Url']), axis = 1)\n",
    "    # #print(bbc_pidgin_final_df)\n",
    "    \n",
    "    #final_df = pd.concat([abroad_gh_final_df,bbc_pidgin_final_df],ignore_index =True)\n",
    "    return abroad_gh_final_df\n",
    "    "
   ]
  },
  {
   "cell_type": "code",
   "execution_count": 19,
   "metadata": {},
   "outputs": [],
   "source": [
    "articles_df = get_new_articles(data_df)"
   ]
  },
  {
   "cell_type": "code",
   "execution_count": 20,
   "metadata": {},
   "outputs": [],
   "source": [
    "for row in articles_df:\n",
    "    stories_data = stories_data.append(row)"
   ]
  },
  {
   "cell_type": "code",
   "execution_count": 21,
   "metadata": {},
   "outputs": [],
   "source": [
    "stories_data.reset_index(inplace=True)"
   ]
  },
  {
   "cell_type": "code",
   "execution_count": 22,
   "metadata": {},
   "outputs": [
    {
     "data": {
      "text/html": [
       "<div>\n",
       "<style scoped>\n",
       "    .dataframe tbody tr th:only-of-type {\n",
       "        vertical-align: middle;\n",
       "    }\n",
       "\n",
       "    .dataframe tbody tr th {\n",
       "        vertical-align: top;\n",
       "    }\n",
       "\n",
       "    .dataframe thead th {\n",
       "        text-align: right;\n",
       "    }\n",
       "</style>\n",
       "<table border=\"1\" class=\"dataframe\">\n",
       "  <thead>\n",
       "    <tr style=\"text-align: right;\">\n",
       "      <th></th>\n",
       "      <th>Section</th>\n",
       "      <th>Header</th>\n",
       "      <th>Date</th>\n",
       "      <th>Title</th>\n",
       "      <th>Information</th>\n",
       "    </tr>\n",
       "  </thead>\n",
       "  <tbody>\n",
       "    <tr>\n",
       "      <th>0</th>\n",
       "      <td>Abroad, Ghanaians</td>\n",
       "      <td>Diasporia News of Friday,  3 June 2022</td>\n",
       "      <td>2022-06-03</td>\n",
       "      <td>I'm unhappy; my husband and kids were excluded...</td>\n",
       "      <td>US-based Ghanaian Comfort Boampong has reveale...</td>\n",
       "    </tr>\n",
       "    <tr>\n",
       "      <th>1</th>\n",
       "      <td>Abroad, Ghanaians</td>\n",
       "      <td>Diasporia News of Wednesday,  1 June 2022</td>\n",
       "      <td>2022-06-01</td>\n",
       "      <td>Nana Antwi Agyei Brempong II partners Mayor of...</td>\n",
       "      <td>The Mayor of Markt Murnau a Staffelsee, in Bav...</td>\n",
       "    </tr>\n",
       "    <tr>\n",
       "      <th>2</th>\n",
       "      <td>Abroad, Ghanaians</td>\n",
       "      <td>Diasporia News of Wednesday,  1 June 2022</td>\n",
       "      <td>2022-06-01</td>\n",
       "      <td>Turkey is not a place for hustlers; the curren...</td>\n",
       "      <td>Turkey-based Ghanaian Agatha has disclosed tha...</td>\n",
       "    </tr>\n",
       "    <tr>\n",
       "      <th>3</th>\n",
       "      <td>Abroad, Ghanaians</td>\n",
       "      <td>Diasporia News of Sunday,  5 June 2022</td>\n",
       "      <td>2022-06-05</td>\n",
       "      <td>Ghana is expensive; I spent more than GH¢15,00...</td>\n",
       "      <td>UK-based Ghanaian, Kwame Case has revealed tha...</td>\n",
       "    </tr>\n",
       "    <tr>\n",
       "      <th>4</th>\n",
       "      <td>Abroad, Ghanaians</td>\n",
       "      <td>Diasporia News of Wednesday,  1 June 2022</td>\n",
       "      <td>2022-06-01</td>\n",
       "      <td>Nana Antwi Agyei Brempong II partners Mayor of...</td>\n",
       "      <td>The Mayor of Markt Murnau a Staffelsee, in Bav...</td>\n",
       "    </tr>\n",
       "  </tbody>\n",
       "</table>\n",
       "</div>"
      ],
      "text/plain": [
       "             Section                                     Header        Date  \\\n",
       "0  Abroad, Ghanaians     Diasporia News of Friday,  3 June 2022  2022-06-03   \n",
       "1  Abroad, Ghanaians  Diasporia News of Wednesday,  1 June 2022  2022-06-01   \n",
       "2  Abroad, Ghanaians  Diasporia News of Wednesday,  1 June 2022  2022-06-01   \n",
       "3  Abroad, Ghanaians     Diasporia News of Sunday,  5 June 2022  2022-06-05   \n",
       "4  Abroad, Ghanaians  Diasporia News of Wednesday,  1 June 2022  2022-06-01   \n",
       "\n",
       "                                               Title  \\\n",
       "0  I'm unhappy; my husband and kids were excluded...   \n",
       "1  Nana Antwi Agyei Brempong II partners Mayor of...   \n",
       "2  Turkey is not a place for hustlers; the curren...   \n",
       "3  Ghana is expensive; I spent more than GH¢15,00...   \n",
       "4  Nana Antwi Agyei Brempong II partners Mayor of...   \n",
       "\n",
       "                                         Information  \n",
       "0  US-based Ghanaian Comfort Boampong has reveale...  \n",
       "1  The Mayor of Markt Murnau a Staffelsee, in Bav...  \n",
       "2  Turkey-based Ghanaian Agatha has disclosed tha...  \n",
       "3  UK-based Ghanaian, Kwame Case has revealed tha...  \n",
       "4  The Mayor of Markt Murnau a Staffelsee, in Bav...  "
      ]
     },
     "execution_count": 22,
     "metadata": {},
     "output_type": "execute_result"
    }
   ],
   "source": [
    "del stories_data['index']\n",
    "stories_data.head()"
   ]
  },
  {
   "cell_type": "code",
   "execution_count": 23,
   "metadata": {},
   "outputs": [],
   "source": [
    "stories_data.to_csv(\"C:\\\\Users\\\\annieboadu\\\\OneDrive - Affinity Africa\\\\Documents\\\\ghana-web-data-main\\\\CSV files\\\\Ghana Web Stories Urls.csv\")"
   ]
  },
  {
   "cell_type": "code",
   "execution_count": 24,
   "metadata": {},
   "outputs": [
    {
     "name": "stdout",
     "output_type": "stream",
     "text": [
      "<class 'pandas.core.frame.DataFrame'>\n",
      "RangeIndex: 20 entries, 0 to 19\n",
      "Data columns (total 5 columns):\n",
      " #   Column       Non-Null Count  Dtype \n",
      "---  ------       --------------  ----- \n",
      " 0   Section      20 non-null     object\n",
      " 1   Header       20 non-null     object\n",
      " 2   Date         20 non-null     object\n",
      " 3   Title        20 non-null     object\n",
      " 4   Information  20 non-null     object\n",
      "dtypes: object(5)\n",
      "memory usage: 928.0+ bytes\n"
     ]
    }
   ],
   "source": [
    "stories_data.info()"
   ]
  },
  {
   "cell_type": "code",
   "execution_count": null,
   "metadata": {},
   "outputs": [],
   "source": [
    "#go and update url table with url_extracted = 1"
   ]
  },
  {
   "cell_type": "code",
   "execution_count": null,
   "metadata": {},
   "outputs": [],
   "source": [
    "## check on story url issues"
   ]
  }
 ],
 "metadata": {
  "interpreter": {
   "hash": "3983a69a71ba65f379ca11b7271da0d7fd4a5f5f998a2bdf28810253fd0e4405"
  },
  "kernelspec": {
   "display_name": "Python 3.10.2 64-bit",
   "language": "python",
   "name": "python3"
  },
  "language_info": {
   "codemirror_mode": {
    "name": "ipython",
    "version": 3
   },
   "file_extension": ".py",
   "mimetype": "text/x-python",
   "name": "python",
   "nbconvert_exporter": "python",
   "pygments_lexer": "ipython3",
   "version": "3.10.2"
  },
  "orig_nbformat": 4
 },
 "nbformat": 4,
 "nbformat_minor": 2
}
