{
 "cells": [
  {
   "cell_type": "code",
   "execution_count": 1,
   "id": "bad397e5",
   "metadata": {},
   "outputs": [],
   "source": [
    "import pandas as pd\n",
    "import requests\n",
    "from bs4 import BeautifulSoup\n",
    "import cloudscraper\n",
    "import time"
   ]
  },
  {
   "cell_type": "code",
   "execution_count": 2,
   "id": "9f351475",
   "metadata": {},
   "outputs": [],
   "source": [
    "base_url = 'https://www.ghanaweb.com'"
   ]
  },
  {
   "cell_type": "code",
   "execution_count": 3,
   "id": "4dbe41f9",
   "metadata": {},
   "outputs": [],
   "source": [
    "URL = \"https://www.ghanaweb.com/GhanaHomePage/sitemap.php\"\n",
    "page = requests.get(URL)\n",
    "\n",
    "#print(page.text)"
   ]
  },
  {
   "cell_type": "code",
   "execution_count": 4,
   "id": "81a3de49",
   "metadata": {},
   "outputs": [],
   "source": [
    "soup = BeautifulSoup(page.content, 'html.parser')"
   ]
  },
  {
   "cell_type": "code",
   "execution_count": 5,
   "id": "a729b1c0",
   "metadata": {},
   "outputs": [],
   "source": [
    "results = soup.find(id = \"medsection2\")"
   ]
  },
  {
   "cell_type": "raw",
   "id": "604fe00f",
   "metadata": {},
   "source": [
    "#print(results.prettify())"
   ]
  },
  {
   "cell_type": "code",
   "execution_count": 6,
   "id": "649cc432",
   "metadata": {},
   "outputs": [],
   "source": [
    "site_map_data = results.find_all(\"dl\", class_ = \"resources\")"
   ]
  },
  {
   "cell_type": "code",
   "execution_count": 7,
   "id": "91e1c0eb",
   "metadata": {},
   "outputs": [],
   "source": [
    "df_columns = ['Section','url']\n",
    "sections_df = pd.DataFrame(columns = df_columns)"
   ]
  },
  {
   "cell_type": "code",
   "execution_count": 8,
   "id": "62e907b7",
   "metadata": {},
   "outputs": [],
   "source": [
    "for sections in site_map_data:\n",
    "    urls = sections.find_all(\"a\")\n",
    "    for url in urls:\n",
    "        temp_row = pd.DataFrame(data = [[url.text,base_url+url.get('href')]], columns = df_columns)\n",
    "        sections_df = pd.concat([sections_df,temp_row], ignore_index=True)"
   ]
  },
  {
   "cell_type": "code",
   "execution_count": 15,
   "id": "dad0a725",
   "metadata": {},
   "outputs": [],
   "source": [
    "sections_df.to_csv(\"C:\\\\Users\\\\annieboadu\\\\OneDrive - Affinity Africa\\\\Documents\\\\ghana-web-data-main\\\\CSV files\\\\Setions_data.csv\")"
   ]
  },
  {
   "cell_type": "code",
   "execution_count": 83,
   "id": "88764af6",
   "metadata": {},
   "outputs": [],
   "source": [
    "df_columns = ['Section Title','url']\n",
    "stories_urls_df = pd.DataFrame(columns = df_columns)"
   ]
  },
  {
   "cell_type": "code",
   "execution_count": 84,
   "id": "ca5187ec",
   "metadata": {},
   "outputs": [],
   "source": [
    "section_list = [\"Abroad, Ghanaians\",\"AFCON\",\"African News\",\"Athletics\",\"BBC Hausa News\", \"BBC Pidgin News\",\"Business & Economy\",\n",
    "\"Coronavirus\",\"Crime News\",\"Editorial News\",\"Entertainers\",\"Entertainment\",\"Health News\",\"Lifestyle\",\"Music\",\"Political News\",\n",
    "\"Regional News\",\"Sports Section\",\"Tabloid News\"]"
   ]
  },
  {
   "cell_type": "code",
   "execution_count": 94,
   "id": "539475c5",
   "metadata": {},
   "outputs": [],
   "source": [
    "def get_story_urls(row):\n",
    "    if row['Section'] in section_list:\n",
    "        print(row[''])\n",
    "        scraper = cloudscraper.create_scraper()\n",
    "        page = scraper.get(row[\"url\"])\n",
    "        soup = BeautifulSoup(page.content, 'html.parser')\n",
    "        page_stories = soup.find_all(\"div\", class_ = \"afcon-news list\")\n",
    "        for ul in page_stories:\n",
    "            for li in ul.findAll('li'):\n",
    "                data = li.find(\"a\")\n",
    "                url = row['url']+data.get('href')\n",
    "                temp_row = pd.DataFrame(data = [[row[\"Section\"], row[\"url\"]+data.get(\"href\")]], columns = df_columns)\n",
    "                print(temp_row)\n",
    "                stories_urls_df = pd.concat([stories_urls_df,temp_row], ignore_index=True)  \n",
    "            time.sleep(50)\n",
    "        time.sleep(10)\n",
    "    else:\n",
    "        pass\n",
    "\n",
    "    "
   ]
  },
  {
   "cell_type": "code",
   "execution_count": 95,
   "id": "d2764f70",
   "metadata": {},
   "outputs": [
    {
     "name": "stdout",
     "output_type": "stream",
     "text": [
      "  Section Title                                                url\n",
      "0     Athletics  https://www.ghanaweb.com/GhanaHomePage/athleti...\n"
     ]
    },
    {
     "ename": "UnboundLocalError",
     "evalue": "local variable 'stories_urls_df' referenced before assignment",
     "output_type": "error",
     "traceback": [
      "\u001b[1;31m---------------------------------------------------------------------------\u001b[0m",
      "\u001b[1;31mUnboundLocalError\u001b[0m                         Traceback (most recent call last)",
      "\u001b[1;32mc:\\Users\\annieboadu\\OneDrive - Affinity Africa\\Documents\\ghana-web-data-main\\Ghana Web Data Scraper.ipynb Cell 14'\u001b[0m in \u001b[0;36m<cell line: 1>\u001b[1;34m()\u001b[0m\n\u001b[1;32m----> <a href='vscode-notebook-cell:/c%3A/Users/annieboadu/OneDrive%20-%20Affinity%20Africa/Documents/ghana-web-data-main/Ghana%20Web%20Data%20Scraper.ipynb#ch0000039?line=0'>1</a>\u001b[0m sections_df\u001b[39m.\u001b[39;49mapply(\u001b[39mlambda\u001b[39;49;00m row : get_story_urls(row),axis \u001b[39m=\u001b[39;49m \u001b[39m1\u001b[39;49m)\n",
      "File \u001b[1;32mc:\\Users\\annieboadu\\AppData\\Local\\Programs\\Python\\Python310\\lib\\site-packages\\pandas\\core\\frame.py:8833\u001b[0m, in \u001b[0;36mDataFrame.apply\u001b[1;34m(self, func, axis, raw, result_type, args, **kwargs)\u001b[0m\n\u001b[0;32m   <a href='file:///c%3A/Users/annieboadu/AppData/Local/Programs/Python/Python310/lib/site-packages/pandas/core/frame.py?line=8821'>8822</a>\u001b[0m \u001b[39mfrom\u001b[39;00m \u001b[39mpandas\u001b[39;00m\u001b[39m.\u001b[39;00m\u001b[39mcore\u001b[39;00m\u001b[39m.\u001b[39;00m\u001b[39mapply\u001b[39;00m \u001b[39mimport\u001b[39;00m frame_apply\n\u001b[0;32m   <a href='file:///c%3A/Users/annieboadu/AppData/Local/Programs/Python/Python310/lib/site-packages/pandas/core/frame.py?line=8823'>8824</a>\u001b[0m op \u001b[39m=\u001b[39m frame_apply(\n\u001b[0;32m   <a href='file:///c%3A/Users/annieboadu/AppData/Local/Programs/Python/Python310/lib/site-packages/pandas/core/frame.py?line=8824'>8825</a>\u001b[0m     \u001b[39mself\u001b[39m,\n\u001b[0;32m   <a href='file:///c%3A/Users/annieboadu/AppData/Local/Programs/Python/Python310/lib/site-packages/pandas/core/frame.py?line=8825'>8826</a>\u001b[0m     func\u001b[39m=\u001b[39mfunc,\n\u001b[1;32m   (...)\u001b[0m\n\u001b[0;32m   <a href='file:///c%3A/Users/annieboadu/AppData/Local/Programs/Python/Python310/lib/site-packages/pandas/core/frame.py?line=8830'>8831</a>\u001b[0m     kwargs\u001b[39m=\u001b[39mkwargs,\n\u001b[0;32m   <a href='file:///c%3A/Users/annieboadu/AppData/Local/Programs/Python/Python310/lib/site-packages/pandas/core/frame.py?line=8831'>8832</a>\u001b[0m )\n\u001b[1;32m-> <a href='file:///c%3A/Users/annieboadu/AppData/Local/Programs/Python/Python310/lib/site-packages/pandas/core/frame.py?line=8832'>8833</a>\u001b[0m \u001b[39mreturn\u001b[39;00m op\u001b[39m.\u001b[39;49mapply()\u001b[39m.\u001b[39m__finalize__(\u001b[39mself\u001b[39m, method\u001b[39m=\u001b[39m\u001b[39m\"\u001b[39m\u001b[39mapply\u001b[39m\u001b[39m\"\u001b[39m)\n",
      "File \u001b[1;32mc:\\Users\\annieboadu\\AppData\\Local\\Programs\\Python\\Python310\\lib\\site-packages\\pandas\\core\\apply.py:727\u001b[0m, in \u001b[0;36mFrameApply.apply\u001b[1;34m(self)\u001b[0m\n\u001b[0;32m    <a href='file:///c%3A/Users/annieboadu/AppData/Local/Programs/Python/Python310/lib/site-packages/pandas/core/apply.py?line=723'>724</a>\u001b[0m \u001b[39melif\u001b[39;00m \u001b[39mself\u001b[39m\u001b[39m.\u001b[39mraw:\n\u001b[0;32m    <a href='file:///c%3A/Users/annieboadu/AppData/Local/Programs/Python/Python310/lib/site-packages/pandas/core/apply.py?line=724'>725</a>\u001b[0m     \u001b[39mreturn\u001b[39;00m \u001b[39mself\u001b[39m\u001b[39m.\u001b[39mapply_raw()\n\u001b[1;32m--> <a href='file:///c%3A/Users/annieboadu/AppData/Local/Programs/Python/Python310/lib/site-packages/pandas/core/apply.py?line=726'>727</a>\u001b[0m \u001b[39mreturn\u001b[39;00m \u001b[39mself\u001b[39;49m\u001b[39m.\u001b[39;49mapply_standard()\n",
      "File \u001b[1;32mc:\\Users\\annieboadu\\AppData\\Local\\Programs\\Python\\Python310\\lib\\site-packages\\pandas\\core\\apply.py:851\u001b[0m, in \u001b[0;36mFrameApply.apply_standard\u001b[1;34m(self)\u001b[0m\n\u001b[0;32m    <a href='file:///c%3A/Users/annieboadu/AppData/Local/Programs/Python/Python310/lib/site-packages/pandas/core/apply.py?line=849'>850</a>\u001b[0m \u001b[39mdef\u001b[39;00m \u001b[39mapply_standard\u001b[39m(\u001b[39mself\u001b[39m):\n\u001b[1;32m--> <a href='file:///c%3A/Users/annieboadu/AppData/Local/Programs/Python/Python310/lib/site-packages/pandas/core/apply.py?line=850'>851</a>\u001b[0m     results, res_index \u001b[39m=\u001b[39m \u001b[39mself\u001b[39;49m\u001b[39m.\u001b[39;49mapply_series_generator()\n\u001b[0;32m    <a href='file:///c%3A/Users/annieboadu/AppData/Local/Programs/Python/Python310/lib/site-packages/pandas/core/apply.py?line=852'>853</a>\u001b[0m     \u001b[39m# wrap results\u001b[39;00m\n\u001b[0;32m    <a href='file:///c%3A/Users/annieboadu/AppData/Local/Programs/Python/Python310/lib/site-packages/pandas/core/apply.py?line=853'>854</a>\u001b[0m     \u001b[39mreturn\u001b[39;00m \u001b[39mself\u001b[39m\u001b[39m.\u001b[39mwrap_results(results, res_index)\n",
      "File \u001b[1;32mc:\\Users\\annieboadu\\AppData\\Local\\Programs\\Python\\Python310\\lib\\site-packages\\pandas\\core\\apply.py:867\u001b[0m, in \u001b[0;36mFrameApply.apply_series_generator\u001b[1;34m(self)\u001b[0m\n\u001b[0;32m    <a href='file:///c%3A/Users/annieboadu/AppData/Local/Programs/Python/Python310/lib/site-packages/pandas/core/apply.py?line=863'>864</a>\u001b[0m \u001b[39mwith\u001b[39;00m option_context(\u001b[39m\"\u001b[39m\u001b[39mmode.chained_assignment\u001b[39m\u001b[39m\"\u001b[39m, \u001b[39mNone\u001b[39;00m):\n\u001b[0;32m    <a href='file:///c%3A/Users/annieboadu/AppData/Local/Programs/Python/Python310/lib/site-packages/pandas/core/apply.py?line=864'>865</a>\u001b[0m     \u001b[39mfor\u001b[39;00m i, v \u001b[39min\u001b[39;00m \u001b[39menumerate\u001b[39m(series_gen):\n\u001b[0;32m    <a href='file:///c%3A/Users/annieboadu/AppData/Local/Programs/Python/Python310/lib/site-packages/pandas/core/apply.py?line=865'>866</a>\u001b[0m         \u001b[39m# ignore SettingWithCopy here in case the user mutates\u001b[39;00m\n\u001b[1;32m--> <a href='file:///c%3A/Users/annieboadu/AppData/Local/Programs/Python/Python310/lib/site-packages/pandas/core/apply.py?line=866'>867</a>\u001b[0m         results[i] \u001b[39m=\u001b[39m \u001b[39mself\u001b[39;49m\u001b[39m.\u001b[39;49mf(v)\n\u001b[0;32m    <a href='file:///c%3A/Users/annieboadu/AppData/Local/Programs/Python/Python310/lib/site-packages/pandas/core/apply.py?line=867'>868</a>\u001b[0m         \u001b[39mif\u001b[39;00m \u001b[39misinstance\u001b[39m(results[i], ABCSeries):\n\u001b[0;32m    <a href='file:///c%3A/Users/annieboadu/AppData/Local/Programs/Python/Python310/lib/site-packages/pandas/core/apply.py?line=868'>869</a>\u001b[0m             \u001b[39m# If we have a view on v, we need to make a copy because\u001b[39;00m\n\u001b[0;32m    <a href='file:///c%3A/Users/annieboadu/AppData/Local/Programs/Python/Python310/lib/site-packages/pandas/core/apply.py?line=869'>870</a>\u001b[0m             \u001b[39m#  series_generator will swap out the underlying data\u001b[39;00m\n\u001b[0;32m    <a href='file:///c%3A/Users/annieboadu/AppData/Local/Programs/Python/Python310/lib/site-packages/pandas/core/apply.py?line=870'>871</a>\u001b[0m             results[i] \u001b[39m=\u001b[39m results[i]\u001b[39m.\u001b[39mcopy(deep\u001b[39m=\u001b[39m\u001b[39mFalse\u001b[39;00m)\n",
      "\u001b[1;32mc:\\Users\\annieboadu\\OneDrive - Affinity Africa\\Documents\\ghana-web-data-main\\Ghana Web Data Scraper.ipynb Cell 14'\u001b[0m in \u001b[0;36m<lambda>\u001b[1;34m(row)\u001b[0m\n\u001b[1;32m----> <a href='vscode-notebook-cell:/c%3A/Users/annieboadu/OneDrive%20-%20Affinity%20Africa/Documents/ghana-web-data-main/Ghana%20Web%20Data%20Scraper.ipynb#ch0000039?line=0'>1</a>\u001b[0m sections_df\u001b[39m.\u001b[39mapply(\u001b[39mlambda\u001b[39;00m row : get_story_urls(row),axis \u001b[39m=\u001b[39m \u001b[39m1\u001b[39m)\n",
      "\u001b[1;32mc:\\Users\\annieboadu\\OneDrive - Affinity Africa\\Documents\\ghana-web-data-main\\Ghana Web Data Scraper.ipynb Cell 13'\u001b[0m in \u001b[0;36mget_story_urls\u001b[1;34m(row)\u001b[0m\n\u001b[0;32m     <a href='vscode-notebook-cell:/c%3A/Users/annieboadu/OneDrive%20-%20Affinity%20Africa/Documents/ghana-web-data-main/Ghana%20Web%20Data%20Scraper.ipynb#ch0000040?line=10'>11</a>\u001b[0m     temp_row \u001b[39m=\u001b[39m pd\u001b[39m.\u001b[39mDataFrame(data \u001b[39m=\u001b[39m [[row[\u001b[39m\"\u001b[39m\u001b[39mSection\u001b[39m\u001b[39m\"\u001b[39m], row[\u001b[39m\"\u001b[39m\u001b[39murl\u001b[39m\u001b[39m\"\u001b[39m]\u001b[39m+\u001b[39mdata\u001b[39m.\u001b[39mget(\u001b[39m\"\u001b[39m\u001b[39mhref\u001b[39m\u001b[39m\"\u001b[39m)]], columns \u001b[39m=\u001b[39m df_columns)\n\u001b[0;32m     <a href='vscode-notebook-cell:/c%3A/Users/annieboadu/OneDrive%20-%20Affinity%20Africa/Documents/ghana-web-data-main/Ghana%20Web%20Data%20Scraper.ipynb#ch0000040?line=11'>12</a>\u001b[0m     \u001b[39mprint\u001b[39m(temp_row)\n\u001b[1;32m---> <a href='vscode-notebook-cell:/c%3A/Users/annieboadu/OneDrive%20-%20Affinity%20Africa/Documents/ghana-web-data-main/Ghana%20Web%20Data%20Scraper.ipynb#ch0000040?line=12'>13</a>\u001b[0m     stories_urls_df \u001b[39m=\u001b[39m pd\u001b[39m.\u001b[39mconcat([stories_urls_df,temp_row], ignore_index\u001b[39m=\u001b[39m\u001b[39mTrue\u001b[39;00m)  \n\u001b[0;32m     <a href='vscode-notebook-cell:/c%3A/Users/annieboadu/OneDrive%20-%20Affinity%20Africa/Documents/ghana-web-data-main/Ghana%20Web%20Data%20Scraper.ipynb#ch0000040?line=13'>14</a>\u001b[0m     time\u001b[39m.\u001b[39msleep(\u001b[39m5\u001b[39m)\n\u001b[0;32m     <a href='vscode-notebook-cell:/c%3A/Users/annieboadu/OneDrive%20-%20Affinity%20Africa/Documents/ghana-web-data-main/Ghana%20Web%20Data%20Scraper.ipynb#ch0000040?line=14'>15</a>\u001b[0m time\u001b[39m.\u001b[39msleep(\u001b[39m50\u001b[39m)\n",
      "\u001b[1;31mUnboundLocalError\u001b[0m: local variable 'stories_urls_df' referenced before assignment"
     ]
    }
   ],
   "source": [
    "sections_df.apply(lambda row : get_story_urls(row),axis = 1)"
   ]
  },
  {
   "cell_type": "code",
   "execution_count": 96,
   "id": "f1ccb34b",
   "metadata": {},
   "outputs": [
    {
     "data": {
      "text/html": [
       "<div>\n",
       "<style scoped>\n",
       "    .dataframe tbody tr th:only-of-type {\n",
       "        vertical-align: middle;\n",
       "    }\n",
       "\n",
       "    .dataframe tbody tr th {\n",
       "        vertical-align: top;\n",
       "    }\n",
       "\n",
       "    .dataframe thead th {\n",
       "        text-align: right;\n",
       "    }\n",
       "</style>\n",
       "<table border=\"1\" class=\"dataframe\">\n",
       "  <thead>\n",
       "    <tr style=\"text-align: right;\">\n",
       "      <th></th>\n",
       "      <th>Section Title</th>\n",
       "      <th>url</th>\n",
       "    </tr>\n",
       "  </thead>\n",
       "  <tbody>\n",
       "  </tbody>\n",
       "</table>\n",
       "</div>"
      ],
      "text/plain": [
       "Empty DataFrame\n",
       "Columns: [Section Title, url]\n",
       "Index: []"
      ]
     },
     "execution_count": 96,
     "metadata": {},
     "output_type": "execute_result"
    }
   ],
   "source": [
    "stories_urls_df"
   ]
  },
  {
   "cell_type": "code",
   "execution_count": 21,
   "id": "ddc4efcc",
   "metadata": {},
   "outputs": [],
   "source": [
    "stories_df.to_csv(\"C:\\\\Users\\\\annieboadu\\\\OneDrive - Affinity Africa\\\\Documents\\\\ghana-web-data-main\\\\CSV files\\\\Story Urls.csv\")"
   ]
  }
 ],
 "metadata": {
  "interpreter": {
   "hash": "3983a69a71ba65f379ca11b7271da0d7fd4a5f5f998a2bdf28810253fd0e4405"
  },
  "kernelspec": {
   "display_name": "Python 3.10.2 64-bit",
   "language": "python",
   "name": "python3"
  },
  "language_info": {
   "codemirror_mode": {
    "name": "ipython",
    "version": 3
   },
   "file_extension": ".py",
   "mimetype": "text/x-python",
   "name": "python",
   "nbconvert_exporter": "python",
   "pygments_lexer": "ipython3",
   "version": "3.10.2"
  }
 },
 "nbformat": 4,
 "nbformat_minor": 5
}
