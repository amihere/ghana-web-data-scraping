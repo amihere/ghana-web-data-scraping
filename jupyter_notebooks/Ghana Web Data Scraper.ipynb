{
 "cells": [
  {
   "attachments": {},
   "cell_type": "markdown",
   "id": "bad397e5",
   "metadata": {},
   "source": [
    "## Importing Libraries"
   ]
  },
  {
   "cell_type": "code",
   "execution_count": 28,
   "id": "318088e4",
   "metadata": {},
   "outputs": [],
   "source": [
    "import pandas as pd\n",
    "import requests\n",
    "from bs4 import BeautifulSoup\n",
    "import os\n",
    "from dotenv import load_dotenv\n",
    "from datetime import datetime\n",
    "from sqlalchemy import types, create_engine\n",
    "from ulid import ULID\n",
    "import warnings\n",
    "warnings.filterwarnings(\"ignore\")"
   ]
  },
  {
   "attachments": {},
   "cell_type": "markdown",
   "id": "e95c8007",
   "metadata": {},
   "source": [
    "## Load env file"
   ]
  },
  {
   "cell_type": "code",
   "execution_count": 29,
   "id": "28cc58da",
   "metadata": {},
   "outputs": [
    {
     "data": {
      "text/plain": [
       "True"
      ]
     },
     "execution_count": 29,
     "metadata": {},
     "output_type": "execute_result"
    }
   ],
   "source": [
    "## load env\n",
    "BASE_DIR = os.path.dirname(os.path.abspath('__file__'))\n",
    "load_dotenv(os.path.join(BASE_DIR, '.env'))"
   ]
  },
  {
   "attachments": {},
   "cell_type": "markdown",
   "id": "56f002c6",
   "metadata": {},
   "source": [
    "## Retrieving data from Sitemap"
   ]
  },
  {
   "cell_type": "code",
   "execution_count": 30,
   "id": "4dbe41f9",
   "metadata": {},
   "outputs": [],
   "source": [
    "base_url = os.getenv(\"BASE_URL\")\n",
    "request_url = f\"{base_url}/GhanaHomePage/sitemap.php\"\n",
    "page = requests.get(request_url)\n",
    "# print(page.text)"
   ]
  },
  {
   "cell_type": "code",
   "execution_count": 31,
   "id": "81a3de49",
   "metadata": {},
   "outputs": [],
   "source": [
    "soup = BeautifulSoup(page.content, 'html.parser')"
   ]
  },
  {
   "cell_type": "code",
   "execution_count": 32,
   "id": "a729b1c0",
   "metadata": {},
   "outputs": [],
   "source": [
    "results = soup.find(id = \"medsection2\")"
   ]
  },
  {
   "cell_type": "code",
   "execution_count": 33,
   "id": "604fe00f",
   "metadata": {},
   "outputs": [],
   "source": [
    "# print(results.prettify())"
   ]
  },
  {
   "cell_type": "code",
   "execution_count": 34,
   "id": "649cc432",
   "metadata": {},
   "outputs": [],
   "source": [
    "site_map_data = results.find_all(\"dl\", class_ = \"resources\")"
   ]
  },
  {
   "cell_type": "code",
   "execution_count": 35,
   "id": "91e1c0eb",
   "metadata": {},
   "outputs": [],
   "source": [
    "df_columns = ['section','url']\n",
    "sections_df = pd.DataFrame(columns = df_columns)"
   ]
  },
  {
   "cell_type": "code",
   "execution_count": 36,
   "id": "62e907b7",
   "metadata": {},
   "outputs": [],
   "source": [
    "for sections in site_map_data:\n",
    "    urls = sections.find_all(\"a\")\n",
    "    for url in urls:\n",
    "        temp_row = pd.DataFrame(data = [[url.text,base_url+url.get('href')]], columns = df_columns)\n",
    "        sections_df = pd.concat([sections_df,temp_row], ignore_index=True)"
   ]
  },
  {
   "attachments": {},
   "cell_type": "markdown",
   "id": "3c3cefa6",
   "metadata": {},
   "source": [
    "## Selecting Story Sections with articles"
   ]
  },
  {
   "cell_type": "code",
   "execution_count": 37,
   "id": "ca5187ec",
   "metadata": {},
   "outputs": [],
   "source": [
    "section_list = [\"Abroad, Ghanaians\",\"AFCON\",\"African News\",\"Athletics\",\n",
    "                \"BBC Hausa News\", \"BBC Pidgin News\",\"Business & Economy\",\n",
    "                \"Coronavirus\",\"Crime News\",\"Editorial News\",\"Entertainment\",\n",
    "                \"Health News\",\"Lifestyle\",\"Music\",\"Political News\",\n",
    "                \"Regional News\",\"Sports Section\",\"Tabloid News\"]"
   ]
  },
  {
   "cell_type": "code",
   "execution_count": 38,
   "id": "673a2639",
   "metadata": {},
   "outputs": [],
   "source": [
    "# getting the urls to the different sectiions\n",
    "def get_section_urls(row):\n",
    "    df = pd.DataFrame()\n",
    "    if row['section'] in section_list:\n",
    "        temp_row = pd.DataFrame(data = [[row[\"section\"], row[\"url\"]]], columns = df_columns)\n",
    "        df = pd.concat([df,temp_row],ignore_index =True)\n",
    "    else:\n",
    "        pass\n",
    "    return df"
   ]
  },
  {
   "cell_type": "code",
   "execution_count": 39,
   "id": "841e8275",
   "metadata": {},
   "outputs": [],
   "source": [
    "df = sections_df.apply(lambda row : get_section_urls(row),axis = 1)"
   ]
  },
  {
   "cell_type": "code",
   "execution_count": 40,
   "id": "7adc8f05",
   "metadata": {},
   "outputs": [],
   "source": [
    "df_columns = ['section','url']\n",
    "stories_urls_df = pd.DataFrame(columns = df_columns)"
   ]
  },
  {
   "cell_type": "code",
   "execution_count": 41,
   "id": "beeb2b61",
   "metadata": {},
   "outputs": [],
   "source": [
    "for row in df:\n",
    "    stories_urls_df = pd.concat([stories_urls_df,row])"
   ]
  },
  {
   "cell_type": "code",
   "execution_count": 42,
   "id": "e7161f3b",
   "metadata": {},
   "outputs": [],
   "source": [
    "stories_urls_df.reset_index(inplace=True,drop=True)"
   ]
  },
  {
   "attachments": {},
   "cell_type": "markdown",
   "id": "83bfa5ba",
   "metadata": {},
   "source": [
    "## Generate ULIDs for the various sections"
   ]
  },
  {
   "cell_type": "code",
   "execution_count": 43,
   "id": "0abd7a25",
   "metadata": {},
   "outputs": [],
   "source": [
    "## function to generate ulid\n",
    "def generate_ulid(row):\n",
    "    row[\"id\"] = int(ULID())\n",
    "    return row"
   ]
  },
  {
   "cell_type": "code",
   "execution_count": 44,
   "id": "2b698938",
   "metadata": {},
   "outputs": [],
   "source": [
    "stories_urls_df = stories_urls_df.apply(lambda row: generate_ulid(row), axis=1)"
   ]
  },
  {
   "cell_type": "code",
   "execution_count": 45,
   "id": "86889d1f",
   "metadata": {},
   "outputs": [],
   "source": [
    "stories_urls_df[\"dateGenerated\"] = datetime.now()"
   ]
  },
  {
   "cell_type": "code",
   "execution_count": 46,
   "id": "b4a1786d",
   "metadata": {},
   "outputs": [],
   "source": [
    "stories_urls_df = stories_urls_df[[\"id\",\"section\",\"url\",\"dateGenerated\"]]"
   ]
  },
  {
   "attachments": {},
   "cell_type": "markdown",
   "id": "1eb33789",
   "metadata": {},
   "source": [
    "## Push data to db"
   ]
  },
  {
   "cell_type": "code",
   "execution_count": 48,
   "id": "e6cb67ff",
   "metadata": {},
   "outputs": [],
   "source": [
    "# create engine\n",
    "MYSQL_DB_USER = os.getenv(\"MYSQL_DB_USER\")\n",
    "MYSQL_DB_PASSWORD = os.getenv(\"MYSQL_DB_PASSWORD\")\n",
    "MYSQL_DB_HOST = os.getenv(\"MYSQL_DB_HOST\")\n",
    "MYSQL_DB_PORT = os.getenv(\"MYSQL_DB_PORT\")\n",
    "MYSQL_DB_NAME = os.getenv(\"MYSQL_DB_NAME\") \n",
    "\n",
    "mysql_engine = create_engine(f\"mysql+pymysql://{MYSQL_DB_USER}:{MYSQL_DB_PASSWORD}@{MYSQL_DB_HOST}:{MYSQL_DB_PORT}/{MYSQL_DB_NAME}\")"
   ]
  },
  {
   "cell_type": "code",
   "execution_count": 53,
   "id": "a082217c",
   "metadata": {},
   "outputs": [],
   "source": [
    "## create df schema\n",
    "df_schema = dict(zip(stories_urls_df.columns.tolist(),(types.VARCHAR(length=100), \n",
    "                                                    types.VARCHAR(length=150),\n",
    "                                                    types.VARCHAR(length=1000),\n",
    "                                                    types.TIMESTAMP)))"
   ]
  },
  {
   "cell_type": "code",
   "execution_count": 54,
   "id": "8ff1ae5d",
   "metadata": {},
   "outputs": [
    {
     "data": {
      "text/plain": [
       "18"
      ]
     },
     "execution_count": 54,
     "metadata": {},
     "output_type": "execute_result"
    }
   ],
   "source": [
    "stories_urls_df.to_sql(\"sections\", con=mysql_engine, if_exists=\"replace\",dtype=df_schema,index=False) "
   ]
  },
  {
   "cell_type": "code",
   "execution_count": null,
   "id": "7523dbca",
   "metadata": {},
   "outputs": [],
   "source": []
  }
 ],
 "metadata": {
  "interpreter": {
   "hash": "3983a69a71ba65f379ca11b7271da0d7fd4a5f5f998a2bdf28810253fd0e4405"
  },
  "kernelspec": {
   "display_name": "Python 3.10.2 64-bit",
   "language": "python",
   "name": "python3"
  },
  "language_info": {
   "codemirror_mode": {
    "name": "ipython",
    "version": 3
   },
   "file_extension": ".py",
   "mimetype": "text/x-python",
   "name": "python",
   "nbconvert_exporter": "python",
   "pygments_lexer": "ipython3",
   "version": "3.10.2"
  }
 },
 "nbformat": 4,
 "nbformat_minor": 5
}
