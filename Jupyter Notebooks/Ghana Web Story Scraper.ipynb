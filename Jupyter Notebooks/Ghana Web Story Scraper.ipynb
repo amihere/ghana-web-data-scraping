{
 "cells": [
  {
   "cell_type": "markdown",
   "metadata": {},
   "source": [
    "## Importing Libraries"
   ]
  },
  {
   "cell_type": "code",
   "execution_count": 11,
   "metadata": {},
   "outputs": [],
   "source": [
    "import pandas as pd\n",
    "import cloudscraper\n",
    "from bs4 import BeautifulSoup\n",
    "import warnings\n",
    "warnings.filterwarnings(\"ignore\")"
   ]
  },
  {
   "cell_type": "markdown",
   "metadata": {},
   "source": [
    "## Reading url data"
   ]
  },
  {
   "cell_type": "code",
   "execution_count": 12,
   "metadata": {},
   "outputs": [],
   "source": [
    "data_df = pd.read_csv(\"C:\\\\Users\\\\annieboadu\\\\OneDrive - Affinity Africa\\\\Documents\\\\ghana-web-data-main\\\\CSV files\\\\Story Urls.csv\")"
   ]
  },
  {
   "cell_type": "code",
   "execution_count": 13,
   "metadata": {},
   "outputs": [],
   "source": [
    "del data_df['Unnamed: 0']"
   ]
  },
  {
   "cell_type": "code",
   "execution_count": 14,
   "metadata": {},
   "outputs": [
    {
     "name": "stdout",
     "output_type": "stream",
     "text": [
      "<class 'pandas.core.frame.DataFrame'>\n",
      "RangeIndex: 1121 entries, 0 to 1120\n",
      "Data columns (total 2 columns):\n",
      " #   Column         Non-Null Count  Dtype \n",
      "---  ------         --------------  ----- \n",
      " 0   Section Title  1121 non-null   object\n",
      " 1   Url            1121 non-null   object\n",
      "dtypes: object(2)\n",
      "memory usage: 17.6+ KB\n"
     ]
    }
   ],
   "source": [
    "#global data_df\n",
    "data_df.info()"
   ]
  },
  {
   "cell_type": "code",
   "execution_count": 15,
   "metadata": {},
   "outputs": [],
   "source": [
    "#data_df.head()"
   ]
  },
  {
   "cell_type": "markdown",
   "metadata": {},
   "source": [
    "# Getting data in news articles"
   ]
  },
  {
   "cell_type": "code",
   "execution_count": 16,
   "metadata": {},
   "outputs": [],
   "source": [
    "df_columns = ['Section','Header','Date','Title','Information']\n",
    "stories_data = pd.DataFrame(columns = df_columns)"
   ]
  },
  {
   "cell_type": "markdown",
   "metadata": {},
   "source": [
    "## Section: Abroad, Ghanaians"
   ]
  },
  {
   "cell_type": "code",
   "execution_count": 20,
   "metadata": {},
   "outputs": [],
   "source": [
    "def get_abroad_gh_articles(section_title,url):\n",
    "    df = pd.DataFrame()\n",
    "    #try:\n",
    "    scraper = cloudscraper.create_scraper()\n",
    "    page = scraper.get(url)\n",
    "    #print(page.text)\n",
    "    soup = BeautifulSoup(page.content, 'html.parser')\n",
    "    page_stories = soup.find(id = \"medsection1\")\n",
    "    div_class = page_stories.find(\"div\", class_ = \"article-left-col\")\n",
    "    #print(div_class)\n",
    "    header = div_class.find('p', class_ = \"floatLeft\").text\n",
    "    date = div_class.find('a', id = \"date\").text\n",
    "    title = div_class.find('h1').text\n",
    "    info = div_class.find('p',id = \"article-123\").text\n",
    "    temp_row = pd.DataFrame(data = [[section_title, header, date, title, info]], columns = df_columns)\n",
    "    #stories_data = stories_data.append(temp_row)\n",
    "    df = pd.concat([df,temp_row],ignore_index =True)\n",
    "    #print(df)\n",
    "    return df\n"
   ]
  },
  {
   "cell_type": "markdown",
   "metadata": {},
   "source": [
    "## Run all functions to generate stories"
   ]
  },
  {
   "cell_type": "code",
   "execution_count": 21,
   "metadata": {},
   "outputs": [],
   "source": [
    "def get_new_articles(df):\n",
    "    final_df = pd.DataFrame()\n",
    "    #abroad_ghanaians_news\n",
    "    abroad_ghanaians_df  = df[df['Section Title']=='Abroad, Ghanaians']\n",
    "    #print(abroad_ghanaians_df['Section Title'])\n",
    "    final_df = abroad_ghanaians_df.apply(lambda row:get_abroad_gh_articles(row['Section Title'],row['Url']), axis = 1)\n",
    "    #print(final_df)\n",
    "\n",
    "\n",
    "    return final_df\n",
    "    "
   ]
  },
  {
   "cell_type": "code",
   "execution_count": 22,
   "metadata": {},
   "outputs": [],
   "source": [
    "articles_df = get_new_articles(data_df.iloc[0:4])"
   ]
  },
  {
   "cell_type": "code",
   "execution_count": 23,
   "metadata": {},
   "outputs": [],
   "source": [
    "for row in articles_df:\n",
    "    stories_data = stories_data.append(row)"
   ]
  },
  {
   "cell_type": "code",
   "execution_count": 24,
   "metadata": {},
   "outputs": [],
   "source": [
    "stories_data.reset_index(inplace=True)"
   ]
  },
  {
   "cell_type": "code",
   "execution_count": 25,
   "metadata": {},
   "outputs": [
    {
     "data": {
      "text/html": [
       "<div>\n",
       "<style scoped>\n",
       "    .dataframe tbody tr th:only-of-type {\n",
       "        vertical-align: middle;\n",
       "    }\n",
       "\n",
       "    .dataframe tbody tr th {\n",
       "        vertical-align: top;\n",
       "    }\n",
       "\n",
       "    .dataframe thead th {\n",
       "        text-align: right;\n",
       "    }\n",
       "</style>\n",
       "<table border=\"1\" class=\"dataframe\">\n",
       "  <thead>\n",
       "    <tr style=\"text-align: right;\">\n",
       "      <th></th>\n",
       "      <th>Section</th>\n",
       "      <th>Header</th>\n",
       "      <th>Date</th>\n",
       "      <th>Title</th>\n",
       "      <th>Information</th>\n",
       "    </tr>\n",
       "  </thead>\n",
       "  <tbody>\n",
       "    <tr>\n",
       "      <th>0</th>\n",
       "      <td>Abroad, Ghanaians</td>\n",
       "      <td>Diasporia News of Thursday,  5 May 2022</td>\n",
       "      <td>2022-05-05</td>\n",
       "      <td>I regret leaving my job in Israel for Germany ...</td>\n",
       "      <td>Germany-based Ghanaian Stephen has disclosed t...</td>\n",
       "    </tr>\n",
       "    <tr>\n",
       "      <th>1</th>\n",
       "      <td>Abroad, Ghanaians</td>\n",
       "      <td>Diasporia News of Monday,  2 May 2022</td>\n",
       "      <td>2022-05-02</td>\n",
       "      <td>Black people must worship whites, they are  go...</td>\n",
       "      <td>UK-based Ghanaian, CK Annan has stated that Af...</td>\n",
       "    </tr>\n",
       "    <tr>\n",
       "      <th>2</th>\n",
       "      <td>Abroad, Ghanaians</td>\n",
       "      <td>Diasporia News of Monday,  2 May 2022</td>\n",
       "      <td>2022-05-02</td>\n",
       "      <td>My agent promised I would be paid $50 to wash ...</td>\n",
       "      <td>Malaysia-based Ghanaian, Samuel Adu has reveal...</td>\n",
       "    </tr>\n",
       "    <tr>\n",
       "      <th>3</th>\n",
       "      <td>Abroad, Ghanaians</td>\n",
       "      <td>Diasporia News of Monday,  2 May 2022</td>\n",
       "      <td>2022-05-02</td>\n",
       "      <td>I built a 10-bedroom house in Ghana within thr...</td>\n",
       "      <td>Israel-based Ghanaian single mother, Kaakyire ...</td>\n",
       "    </tr>\n",
       "  </tbody>\n",
       "</table>\n",
       "</div>"
      ],
      "text/plain": [
       "             Section                                   Header        Date  \\\n",
       "0  Abroad, Ghanaians  Diasporia News of Thursday,  5 May 2022  2022-05-05   \n",
       "1  Abroad, Ghanaians    Diasporia News of Monday,  2 May 2022  2022-05-02   \n",
       "2  Abroad, Ghanaians    Diasporia News of Monday,  2 May 2022  2022-05-02   \n",
       "3  Abroad, Ghanaians    Diasporia News of Monday,  2 May 2022  2022-05-02   \n",
       "\n",
       "                                               Title  \\\n",
       "0  I regret leaving my job in Israel for Germany ...   \n",
       "1  Black people must worship whites, they are  go...   \n",
       "2  My agent promised I would be paid $50 to wash ...   \n",
       "3  I built a 10-bedroom house in Ghana within thr...   \n",
       "\n",
       "                                         Information  \n",
       "0  Germany-based Ghanaian Stephen has disclosed t...  \n",
       "1  UK-based Ghanaian, CK Annan has stated that Af...  \n",
       "2  Malaysia-based Ghanaian, Samuel Adu has reveal...  \n",
       "3  Israel-based Ghanaian single mother, Kaakyire ...  "
      ]
     },
     "execution_count": 25,
     "metadata": {},
     "output_type": "execute_result"
    }
   ],
   "source": [
    "del stories_data['index']\n",
    "stories_data.head()"
   ]
  },
  {
   "cell_type": "code",
   "execution_count": 26,
   "metadata": {},
   "outputs": [],
   "source": [
    "stories_data.to_csv(\"C:\\\\Users\\\\annieboadu\\\\OneDrive - Affinity Africa\\\\Documents\\\\ghana-web-data-main\\\\CSV files\\\\Ghana Web Stories Urls.csv\")"
   ]
  },
  {
   "cell_type": "code",
   "execution_count": null,
   "metadata": {},
   "outputs": [],
   "source": [
    "#go and update url table with url_extracted = 1"
   ]
  }
 ],
 "metadata": {
  "interpreter": {
   "hash": "3983a69a71ba65f379ca11b7271da0d7fd4a5f5f998a2bdf28810253fd0e4405"
  },
  "kernelspec": {
   "display_name": "Python 3.10.2 64-bit",
   "language": "python",
   "name": "python3"
  },
  "language_info": {
   "codemirror_mode": {
    "name": "ipython",
    "version": 3
   },
   "file_extension": ".py",
   "mimetype": "text/x-python",
   "name": "python",
   "nbconvert_exporter": "python",
   "pygments_lexer": "ipython3",
   "version": "3.10.2"
  },
  "orig_nbformat": 4
 },
 "nbformat": 4,
 "nbformat_minor": 2
}
